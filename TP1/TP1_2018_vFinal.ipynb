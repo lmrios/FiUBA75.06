{
 "cells": [
  {
   "cell_type": "markdown",
   "metadata": {},
   "source": [
    "# 75.06/95.58 Organización de Datos\n",
    "# Primer Cuatrimestre de 2018\n",
    "# Trabajo Práctico # 1\n",
    "                                                                                            \n",
    "                                                                                            \n",
    "                                                                                            Alumnos \n",
    "                                                                                            (Modalidad Oyente): \n",
    "                                                                                            \n",
    "                                                                                            Mariano Vázquez\n",
    "                                                                                            Leandro Rios\n",
    "                                                                                            Luis Velázquez Perta\n"
   ]
  },
  {
   "cell_type": "markdown",
   "metadata": {},
   "source": [
    "## Introducción y objetivos\n",
    "\n",
    "Este trabajo propone un análisis exploratorio realizado sobre datos del registro histórico de avisos de búsquedas laborales en https://www.zonajobs.com.ar.\n",
    "\n",
    "Las motivaciones del mismo son múltiples: \n",
    "\n",
    "El primer objetivo consiste en obtener información de los datos puestos a nuestra disposición, la cual permita mejorar el servicio de Zonajobs a sus clientes (empresas y postulantes en búsqueda de empleos) mediante la propuesta de soluciones \"data-driven\". \n",
    "Para esto, realizaremos una exploración general del set de datos, donde describiremos características generales de los usuarios, los avisos de empleo que se les ofertan, y algunas relaciones entre los mismos; seguido, propondremos hipótesis que serán testeadas, o guiarán el rumbo a siguientes trabajos que requieran nuevos o mayor cantidad de datos, u otros recursos (tiempo, herramientas) que excedan al alcance del presente. \n",
    "\n",
    "El segundo objetivo, de orden más personal para los autores, consiste en familiarizarse con las técnicas y herramientas necesarias para realizar el análisis, tanto desde el punto de vista tecnológico y técnico('Python', 'Pandas', 'Jupyter', etc.) como desde el punto de vista del dominio (conocimiento del negocio).\n",
    "\n",
    "\n",
    "Los datos utilizados se encuentran disponibles en https://goo.gl/BJwbn3\n",
    "\n",
    " Sets de datos y \n",
    "  breve descripción:\n",
    "\n",
    "  fiuba_1_postulantes_educacion.csv\n",
    "   Nivel educativo de los postulantes\n",
    "        \n",
    "  fiuba_2_postulantes_genero_y_edad.csv\n",
    "   Fecha de nacimiento y genero de los postulantes\n",
    "        \n",
    "  fiuba_3_vistas.csv\n",
    "   Vistas de avisos online y offline\n",
    "       \n",
    "  fiuba_4_postulaciones.csv\n",
    "   Postulaciones hasta el 1ro de marzo 2018\n",
    "        \n",
    "  fiuba_5_avisos_online.csv\n",
    "   Avisos online al 8 de marzo de 2018\n",
    "       \n",
    "  fiuba_6_avisos_detalle.csv\n",
    "   Detalle de avisos vistos y postulados tanto offline como online\n"
   ]
  },
  {
   "cell_type": "markdown",
   "metadata": {},
   "source": [
    "Importamos las librerías necesarias:"
   ]
  },
  {
   "cell_type": "code",
   "execution_count": 65,
   "metadata": {
    "collapsed": true
   },
   "outputs": [],
   "source": [
    "import pandas as pd\n",
    "import numpy as np\n",
    "import matplotlib.pyplot as plt\n",
    "import matplotlib.ticker as ticker\n",
    "import matplotlib.cm as cm\n",
    "import matplotlib as mpl\n",
    "import datetime as DT\n",
    "\n",
    "%matplotlib inline"
   ]
  },
  {
   "cell_type": "markdown",
   "metadata": {},
   "source": [
    "### Exploramos el primer set de datos disponible: Nivel educativo de los postulantes\n",
    "    \n",
    "De ahora en más, para cada uno de ellos, realizamos una breve inspección visual, de su estructura, y la presencia de datos       ausentes o duplicados. "
   ]
  },
  {
   "cell_type": "code",
   "execution_count": 66,
   "metadata": {
    "collapsed": false
   },
   "outputs": [],
   "source": [
    "postulantes_educacion = pd.read_csv('Data/fiuba_1_postulantes_educacion.csv')"
   ]
  },
  {
   "cell_type": "code",
   "execution_count": 67,
   "metadata": {
    "collapsed": false
   },
   "outputs": [
    {
     "name": "stdout",
     "output_type": "stream",
     "text": [
      "(298231, 3)\n",
      "<class 'pandas.core.frame.DataFrame'>\n",
      "RangeIndex: 298231 entries, 0 to 298230\n",
      "Data columns (total 3 columns):\n",
      "idpostulante    298231 non-null object\n",
      "nombre          298231 non-null object\n",
      "estado          298231 non-null object\n",
      "dtypes: object(3)\n",
      "memory usage: 6.8+ MB\n",
      "None\n",
      "  idpostulante         nombre    estado\n",
      "0         NdJl       Posgrado  En Curso\n",
      "1         8BkL  Universitario  En Curso\n",
      "2         1d2B  Universitario  En Curso\n"
     ]
    }
   ],
   "source": [
    "print(postulantes_educacion.shape)\n",
    "print(postulantes_educacion.info())\n",
    "print(postulantes_educacion.head(3))"
   ]
  },
  {
   "cell_type": "code",
   "execution_count": 68,
   "metadata": {
    "collapsed": true
   },
   "outputs": [],
   "source": [
    "#Renombramos columnas\n",
    "postulantes_educacion = postulantes_educacion.rename(columns={'nombre': 'educacion', 'estado': 'estado'})"
   ]
  },
  {
   "cell_type": "code",
   "execution_count": 69,
   "metadata": {
    "collapsed": false,
    "scrolled": true
   },
   "outputs": [
    {
     "data": {
      "text/plain": [
       "idpostulante    0\n",
       "educacion       0\n",
       "estado          0\n",
       "dtype: int64"
      ]
     },
     "execution_count": 69,
     "metadata": {},
     "output_type": "execute_result"
    }
   ],
   "source": [
    "postulantes_educacion.isnull().sum(axis=0)"
   ]
  },
  {
   "cell_type": "code",
   "execution_count": 70,
   "metadata": {
    "collapsed": false
   },
   "outputs": [
    {
     "data": {
      "text/html": [
       "<div>\n",
       "<table border=\"1\" class=\"dataframe\">\n",
       "  <thead>\n",
       "    <tr style=\"text-align: right;\">\n",
       "      <th></th>\n",
       "      <th>idpostulante</th>\n",
       "      <th>educacion</th>\n",
       "      <th>estado</th>\n",
       "    </tr>\n",
       "  </thead>\n",
       "  <tbody>\n",
       "    <tr>\n",
       "      <th>count</th>\n",
       "      <td>298231</td>\n",
       "      <td>298231</td>\n",
       "      <td>298231</td>\n",
       "    </tr>\n",
       "    <tr>\n",
       "      <th>unique</th>\n",
       "      <td>188752</td>\n",
       "      <td>7</td>\n",
       "      <td>3</td>\n",
       "    </tr>\n",
       "    <tr>\n",
       "      <th>top</th>\n",
       "      <td>YlMLGD</td>\n",
       "      <td>Secundario</td>\n",
       "      <td>Graduado</td>\n",
       "    </tr>\n",
       "    <tr>\n",
       "      <th>freq</th>\n",
       "      <td>9</td>\n",
       "      <td>110256</td>\n",
       "      <td>194474</td>\n",
       "    </tr>\n",
       "  </tbody>\n",
       "</table>\n",
       "</div>"
      ],
      "text/plain": [
       "       idpostulante   educacion    estado\n",
       "count        298231      298231    298231\n",
       "unique       188752           7         3\n",
       "top          YlMLGD  Secundario  Graduado\n",
       "freq              9      110256    194474"
      ]
     },
     "execution_count": 70,
     "metadata": {},
     "output_type": "execute_result"
    }
   ],
   "source": [
    "postulantes_educacion.describe()"
   ]
  },
  {
   "cell_type": "markdown",
   "metadata": {},
   "source": [
    "No se observan datos nulos pero si observamos que la columna de 'idpostulante' presenta una gran cantidad de valores repetidos; luego de una exploración visual, vemos que se trata de mismas personas que han cargado distintos niveles educativos (quizá coexistentes, quizá a modo de cronología). A fines de nuestro análisis, nos importa quedarnos con un único valor y reflejar el máximo estadío de \n",
    "educación alcanzado por la persona, por lo cual determinamos un orden - con cierto grado de arbitrariedad en la escala - y \n",
    "desechamos los registros correspondientes a duplicados donde el nivel educativo no es el máximo en nuestra escala para \n",
    "la persona en cuestión."
   ]
  },
  {
   "cell_type": "code",
   "execution_count": 71,
   "metadata": {
    "collapsed": false
   },
   "outputs": [
    {
     "data": {
      "text/html": [
       "<div>\n",
       "<table border=\"1\" class=\"dataframe\">\n",
       "  <thead>\n",
       "    <tr style=\"text-align: right;\">\n",
       "      <th></th>\n",
       "      <th>idpostulante</th>\n",
       "      <th>educacion</th>\n",
       "      <th>estado</th>\n",
       "      <th>educacion_estado</th>\n",
       "    </tr>\n",
       "  </thead>\n",
       "  <tbody>\n",
       "    <tr>\n",
       "      <th>0</th>\n",
       "      <td>NdJl</td>\n",
       "      <td>Posgrado</td>\n",
       "      <td>En Curso</td>\n",
       "      <td>Posgrado_En Curso</td>\n",
       "    </tr>\n",
       "    <tr>\n",
       "      <th>1</th>\n",
       "      <td>8BkL</td>\n",
       "      <td>Universitario</td>\n",
       "      <td>En Curso</td>\n",
       "      <td>Universitario_En Curso</td>\n",
       "    </tr>\n",
       "    <tr>\n",
       "      <th>2</th>\n",
       "      <td>1d2B</td>\n",
       "      <td>Universitario</td>\n",
       "      <td>En Curso</td>\n",
       "      <td>Universitario_En Curso</td>\n",
       "    </tr>\n",
       "  </tbody>\n",
       "</table>\n",
       "</div>"
      ],
      "text/plain": [
       "  idpostulante      educacion    estado        educacion_estado\n",
       "0         NdJl       Posgrado  En Curso       Posgrado_En Curso\n",
       "1         8BkL  Universitario  En Curso  Universitario_En Curso\n",
       "2         1d2B  Universitario  En Curso  Universitario_En Curso"
      ]
     },
     "execution_count": 71,
     "metadata": {},
     "output_type": "execute_result"
    }
   ],
   "source": [
    "postulantes_educacion['educacion_estado']=\\\n",
    "postulantes_educacion['educacion'].astype(str)+'_'+postulantes_educacion['estado']\n",
    "postulantes_educacion.head(3)"
   ]
  },
  {
   "cell_type": "markdown",
   "metadata": {},
   "source": [
    "Diseñamos un dataset auxiliar con las categorías de educación y estado ordenadas, y anexamos esta información al dataset original."
   ]
  },
  {
   "cell_type": "code",
   "execution_count": 72,
   "metadata": {
    "collapsed": false
   },
   "outputs": [],
   "source": [
    "categorias = pd.read_csv('Data/fiuba_1_categorias.csv', encoding='latin-1')  # el archivo tiene lineas con header incluido"
   ]
  },
  {
   "cell_type": "code",
   "execution_count": 73,
   "metadata": {
    "collapsed": false
   },
   "outputs": [
    {
     "data": {
      "text/html": [
       "<div>\n",
       "<table border=\"1\" class=\"dataframe\">\n",
       "  <thead>\n",
       "    <tr style=\"text-align: right;\">\n",
       "      <th></th>\n",
       "      <th>educacion_estado</th>\n",
       "      <th>valor</th>\n",
       "    </tr>\n",
       "  </thead>\n",
       "  <tbody>\n",
       "    <tr>\n",
       "      <th>0</th>\n",
       "      <td>Doctorado_Graduado</td>\n",
       "      <td>1</td>\n",
       "    </tr>\n",
       "    <tr>\n",
       "      <th>1</th>\n",
       "      <td>Doctorado_En Curso</td>\n",
       "      <td>2</td>\n",
       "    </tr>\n",
       "    <tr>\n",
       "      <th>2</th>\n",
       "      <td>Doctorado_Abandonado</td>\n",
       "      <td>3</td>\n",
       "    </tr>\n",
       "    <tr>\n",
       "      <th>3</th>\n",
       "      <td>Master_Graduado</td>\n",
       "      <td>4</td>\n",
       "    </tr>\n",
       "    <tr>\n",
       "      <th>4</th>\n",
       "      <td>Master_En Curso</td>\n",
       "      <td>5</td>\n",
       "    </tr>\n",
       "  </tbody>\n",
       "</table>\n",
       "</div>"
      ],
      "text/plain": [
       "       educacion_estado  valor\n",
       "0    Doctorado_Graduado      1\n",
       "1    Doctorado_En Curso      2\n",
       "2  Doctorado_Abandonado      3\n",
       "3       Master_Graduado      4\n",
       "4       Master_En Curso      5"
      ]
     },
     "execution_count": 73,
     "metadata": {},
     "output_type": "execute_result"
    }
   ],
   "source": [
    "categorias.head(5)"
   ]
  },
  {
   "cell_type": "code",
   "execution_count": 74,
   "metadata": {
    "collapsed": false
   },
   "outputs": [
    {
     "name": "stdout",
     "output_type": "stream",
     "text": [
      "(298231, 5)\n",
      "<class 'pandas.core.frame.DataFrame'>\n",
      "  idpostulante educacion    estado   educacion_estado  valor\n",
      "0         NdJl  Posgrado  En Curso  Posgrado_En Curso      8\n",
      "1        axaPJ  Posgrado  En Curso  Posgrado_En Curso      8\n",
      "2        6bK4l  Posgrado  En Curso  Posgrado_En Curso      8\n",
      "3        aJ5N5  Posgrado  En Curso  Posgrado_En Curso      8\n",
      "4        Z48mz  Posgrado  En Curso  Posgrado_En Curso      8\n"
     ]
    }
   ],
   "source": [
    "postulantes_educacion= postulantes_educacion.merge(categorias,on='educacion_estado',how='inner')\n",
    "postulantes_educacion= pd.DataFrame(postulantes_educacion)\n",
    "print(postulantes_educacion.shape)\n",
    "print(type(postulantes_educacion))\n",
    "print(postulantes_educacion.head())"
   ]
  },
  {
   "cell_type": "code",
   "execution_count": 75,
   "metadata": {
    "collapsed": false
   },
   "outputs": [
    {
     "name": "stdout",
     "output_type": "stream",
     "text": [
      "(188752, 2)\n",
      "  idpostulante  valor\n",
      "0      0z5VvGv     16\n",
      "1      0zB026d     13\n",
      "2      0zB03O9     14\n",
      "3      0zB08lq     16\n",
      "4      0zB0NWY     10\n"
     ]
    }
   ],
   "source": [
    "postulantes_educacionGB = postulantes_educacion.groupby(['idpostulante'], as_index=False)\n",
    "agg_pos_edu= postulantes_educacionGB.agg({'valor' :np.min})\n",
    "print(agg_pos_edu.shape)\n",
    "print(agg_pos_edu.head())"
   ]
  },
  {
   "cell_type": "code",
   "execution_count": 76,
   "metadata": {
    "collapsed": false
   },
   "outputs": [
    {
     "name": "stdout",
     "output_type": "stream",
     "text": [
      "(188752, 4)\n",
      "  idpostulante          educacion    estado            educacion_estado\n",
      "0      0z5VvGv         Secundario  Graduado         Secundario_Graduado\n",
      "1      0zB026d  Terciario/Técnico  Graduado  Terciario/Técnico_Graduado\n",
      "2      0zB03O9  Terciario/Técnico  En Curso  Terciario/Técnico_En Curso\n",
      "3      0zB08lq         Secundario  Graduado         Secundario_Graduado\n",
      "4      0zB0NWY      Universitario  Graduado      Universitario_Graduado\n",
      "<class 'pandas.core.frame.DataFrame'>\n"
     ]
    }
   ],
   "source": [
    "postulantes_educacion = pd.merge(agg_pos_edu,postulantes_educacion, on=['idpostulante', 'valor'],how='left')\n",
    "postulantes_educacion.drop('valor',axis=1,inplace=True)\n",
    "print (postulantes_educacion.shape)\n",
    "print(postulantes_educacion.head())\n",
    "print(type(postulantes_educacion))"
   ]
  },
  {
   "cell_type": "code",
   "execution_count": 77,
   "metadata": {
    "collapsed": false
   },
   "outputs": [
    {
     "data": {
      "text/html": [
       "<div>\n",
       "<table border=\"1\" class=\"dataframe\">\n",
       "  <thead>\n",
       "    <tr style=\"text-align: right;\">\n",
       "      <th></th>\n",
       "      <th>idpostulante</th>\n",
       "      <th>educacion</th>\n",
       "      <th>estado</th>\n",
       "      <th>educacion_estado</th>\n",
       "    </tr>\n",
       "  </thead>\n",
       "  <tbody>\n",
       "    <tr>\n",
       "      <th>count</th>\n",
       "      <td>188752</td>\n",
       "      <td>188752</td>\n",
       "      <td>188752</td>\n",
       "      <td>188752</td>\n",
       "    </tr>\n",
       "    <tr>\n",
       "      <th>unique</th>\n",
       "      <td>188752</td>\n",
       "      <td>7</td>\n",
       "      <td>3</td>\n",
       "      <td>21</td>\n",
       "    </tr>\n",
       "    <tr>\n",
       "      <th>top</th>\n",
       "      <td>0zkvLj8</td>\n",
       "      <td>Universitario</td>\n",
       "      <td>Graduado</td>\n",
       "      <td>Secundario_Graduado</td>\n",
       "    </tr>\n",
       "    <tr>\n",
       "      <th>freq</th>\n",
       "      <td>1</td>\n",
       "      <td>87838</td>\n",
       "      <td>109261</td>\n",
       "      <td>56333</td>\n",
       "    </tr>\n",
       "  </tbody>\n",
       "</table>\n",
       "</div>"
      ],
      "text/plain": [
       "       idpostulante      educacion    estado     educacion_estado\n",
       "count        188752         188752    188752               188752\n",
       "unique       188752              7         3                   21\n",
       "top         0zkvLj8  Universitario  Graduado  Secundario_Graduado\n",
       "freq              1          87838    109261                56333"
      ]
     },
     "execution_count": 77,
     "metadata": {},
     "output_type": "execute_result"
    }
   ],
   "source": [
    "postulantes_educacion.describe()"
   ]
  },
  {
   "cell_type": "markdown",
   "metadata": {},
   "source": [
    "Donde se observa que ahora si idpostulante es una clave unica"
   ]
  },
  {
   "cell_type": "markdown",
   "metadata": {},
   "source": [
    "## Exploramos el segundo set de datos disponibles: Fecha de nacimiento y género de los postulantes"
   ]
  },
  {
   "cell_type": "code",
   "execution_count": 78,
   "metadata": {
    "collapsed": false
   },
   "outputs": [],
   "source": [
    "postulantes_genero_y_edad = pd.read_csv('Data/fiuba_2_postulantes_genero_y_edad.csv' ) "
   ]
  },
  {
   "cell_type": "code",
   "execution_count": 79,
   "metadata": {
    "collapsed": false
   },
   "outputs": [
    {
     "name": "stdout",
     "output_type": "stream",
     "text": [
      "(200888, 3)\n",
      "<class 'pandas.core.frame.DataFrame'>\n",
      "RangeIndex: 200888 entries, 0 to 200887\n",
      "Data columns (total 3 columns):\n",
      "idpostulante       200888 non-null object\n",
      "fechanacimiento    196138 non-null object\n",
      "sexo               200888 non-null object\n",
      "dtypes: object(3)\n",
      "memory usage: 4.6+ MB\n",
      "None\n",
      "  idpostulante fechanacimiento sexo\n",
      "0         NM5M      1970-12-03  FEM\n",
      "1         5awk      1962-12-04  FEM\n",
      "2         ZaO5      1978-08-10  FEM\n"
     ]
    }
   ],
   "source": [
    "print(postulantes_genero_y_edad.shape)\n",
    "print(postulantes_genero_y_edad.info())\n",
    "print(postulantes_genero_y_edad.head(3))"
   ]
  },
  {
   "cell_type": "code",
   "execution_count": 80,
   "metadata": {
    "collapsed": false
   },
   "outputs": [
    {
     "name": "stdout",
     "output_type": "stream",
     "text": [
      "idpostulante          0\n",
      "fechanacimiento    4750\n",
      "sexo                  0\n",
      "dtype: int64\n",
      "     idpostulante fechanacimiento        sexo\n",
      "930        NM1J0z             NaN        MASC\n",
      "1377       Z8warE             NaN  NO_DECLARA\n",
      "2149       Nzj9lz             NaN  NO_DECLARA\n",
      "2435       ZD5wXR             NaN        MASC\n",
      "3413       8bdWrW             NaN        MASC\n"
     ]
    }
   ],
   "source": [
    "print(postulantes_genero_y_edad.isnull().sum(axis=0))\n",
    "print(postulantes_genero_y_edad[postulantes_genero_y_edad.isnull().any(axis=1)].head(5))"
   ]
  },
  {
   "cell_type": "markdown",
   "metadata": {},
   "source": [
    "El número de postulantes sin dato de fecha de nacimiento (4750), si bien es elevado, no parece ser motivo de preocupación en proporción a la totalidad de los datos (200888)."
   ]
  },
  {
   "cell_type": "code",
   "execution_count": 81,
   "metadata": {
    "collapsed": false
   },
   "outputs": [
    {
     "data": {
      "text/html": [
       "<div>\n",
       "<table border=\"1\" class=\"dataframe\">\n",
       "  <thead>\n",
       "    <tr style=\"text-align: right;\">\n",
       "      <th></th>\n",
       "      <th>idpostulante</th>\n",
       "      <th>fechanacimiento</th>\n",
       "      <th>sexo</th>\n",
       "    </tr>\n",
       "  </thead>\n",
       "  <tbody>\n",
       "    <tr>\n",
       "      <th>count</th>\n",
       "      <td>200888</td>\n",
       "      <td>196138</td>\n",
       "      <td>200888</td>\n",
       "    </tr>\n",
       "    <tr>\n",
       "      <th>unique</th>\n",
       "      <td>200888</td>\n",
       "      <td>15027</td>\n",
       "      <td>3</td>\n",
       "    </tr>\n",
       "    <tr>\n",
       "      <th>top</th>\n",
       "      <td>jkdQOE0</td>\n",
       "      <td>1994-05-24</td>\n",
       "      <td>FEM</td>\n",
       "    </tr>\n",
       "    <tr>\n",
       "      <th>freq</th>\n",
       "      <td>1</td>\n",
       "      <td>57</td>\n",
       "      <td>101981</td>\n",
       "    </tr>\n",
       "  </tbody>\n",
       "</table>\n",
       "</div>"
      ],
      "text/plain": [
       "       idpostulante fechanacimiento    sexo\n",
       "count        200888          196138  200888\n",
       "unique       200888           15027       3\n",
       "top         jkdQOE0      1994-05-24     FEM\n",
       "freq              1              57  101981"
      ]
     },
     "execution_count": 81,
     "metadata": {},
     "output_type": "execute_result"
    }
   ],
   "source": [
    "postulantes_genero_y_edad.describe()"
   ]
  },
  {
   "cell_type": "markdown",
   "metadata": {},
   "source": [
    "Calculamos la edad de los postulantes en base a su fecha de nacimiento:"
   ]
  },
  {
   "cell_type": "code",
   "execution_count": 82,
   "metadata": {
    "collapsed": false
   },
   "outputs": [
    {
     "data": {
      "text/html": [
       "<div>\n",
       "<table border=\"1\" class=\"dataframe\">\n",
       "  <thead>\n",
       "    <tr style=\"text-align: right;\">\n",
       "      <th></th>\n",
       "      <th>idpostulante</th>\n",
       "      <th>fechanacimiento</th>\n",
       "      <th>sexo</th>\n",
       "      <th>edad</th>\n",
       "    </tr>\n",
       "  </thead>\n",
       "  <tbody>\n",
       "    <tr>\n",
       "      <th>0</th>\n",
       "      <td>NM5M</td>\n",
       "      <td>1970-12-03</td>\n",
       "      <td>FEM</td>\n",
       "      <td>47.0</td>\n",
       "    </tr>\n",
       "    <tr>\n",
       "      <th>1</th>\n",
       "      <td>5awk</td>\n",
       "      <td>1962-12-04</td>\n",
       "      <td>FEM</td>\n",
       "      <td>55.0</td>\n",
       "    </tr>\n",
       "    <tr>\n",
       "      <th>2</th>\n",
       "      <td>ZaO5</td>\n",
       "      <td>1978-08-10</td>\n",
       "      <td>FEM</td>\n",
       "      <td>39.0</td>\n",
       "    </tr>\n",
       "    <tr>\n",
       "      <th>3</th>\n",
       "      <td>NdJl</td>\n",
       "      <td>1969-05-09</td>\n",
       "      <td>MASC</td>\n",
       "      <td>48.0</td>\n",
       "    </tr>\n",
       "    <tr>\n",
       "      <th>4</th>\n",
       "      <td>eo2p</td>\n",
       "      <td>1981-02-16</td>\n",
       "      <td>MASC</td>\n",
       "      <td>37.0</td>\n",
       "    </tr>\n",
       "  </tbody>\n",
       "</table>\n",
       "</div>"
      ],
      "text/plain": [
       "  idpostulante fechanacimiento  sexo  edad\n",
       "0         NM5M      1970-12-03   FEM  47.0\n",
       "1         5awk      1962-12-04   FEM  55.0\n",
       "2         ZaO5      1978-08-10   FEM  39.0\n",
       "3         NdJl      1969-05-09  MASC  48.0\n",
       "4         eo2p      1981-02-16  MASC  37.0"
      ]
     },
     "execution_count": 82,
     "metadata": {},
     "output_type": "execute_result"
    }
   ],
   "source": [
    "postulantes_genero_y_edad['fechanacimiento'] = pd.to_datetime(postulantes_genero_y_edad['fechanacimiento'], format=\"%Y-%m-%d\", errors='coerce')\n",
    "now = pd.Timestamp(DT.datetime.now())\n",
    "postulantes_genero_y_edad['fechanacimiento'] = pd.to_datetime(postulantes_genero_y_edad['fechanacimiento'], format=\"%Y-%m-%d\", errors='coerce')    \n",
    "postulantes_genero_y_edad['edad'] = (now - postulantes_genero_y_edad['fechanacimiento']).astype('timedelta64[Y]') \n",
    "postulantes_genero_y_edad.head(5)"
   ]
  },
  {
   "cell_type": "code",
   "execution_count": 83,
   "metadata": {
    "collapsed": false
   },
   "outputs": [
    {
     "data": {
      "text/plain": [
       "idpostulante          0\n",
       "fechanacimiento    4757\n",
       "sexo                  0\n",
       "edad               4757\n",
       "dtype: int64"
      ]
     },
     "execution_count": 83,
     "metadata": {},
     "output_type": "execute_result"
    }
   ],
   "source": [
    "postulantes_genero_y_edad.isnull().sum(axis=0)"
   ]
  },
  {
   "cell_type": "markdown",
   "metadata": {},
   "source": [
    "Notamos la aparición de 7 nuevos datos faltantes en 'fechanacimiento'. Siendo una cantidad menor, y ante el conocimiento de     que Pandas excluirá dichos casos de cualquier análisis, hacemos caso omiso a ellos."
   ]
  },
  {
   "cell_type": "markdown",
   "metadata": {},
   "source": [
    "Ahora Unimos ambas tablas con datos sobre los postulantes, para establecer relaciones entre sus columnas; lo hacemos mediante un 'outer join', conservando filas pese a valores de 'ID' no cruzados entre las tablas."
   ]
  },
  {
   "cell_type": "code",
   "execution_count": 84,
   "metadata": {
    "collapsed": true
   },
   "outputs": [],
   "source": [
    "postulantes = postulantes_educacion.merge(postulantes_genero_y_edad,on='idpostulante',how='outer')"
   ]
  },
  {
   "cell_type": "code",
   "execution_count": 85,
   "metadata": {
    "collapsed": false
   },
   "outputs": [
    {
     "name": "stdout",
     "output_type": "stream",
     "text": [
      "(200888, 7)\n"
     ]
    },
    {
     "data": {
      "text/html": [
       "<div>\n",
       "<table border=\"1\" class=\"dataframe\">\n",
       "  <thead>\n",
       "    <tr style=\"text-align: right;\">\n",
       "      <th></th>\n",
       "      <th>idpostulante</th>\n",
       "      <th>educacion</th>\n",
       "      <th>estado</th>\n",
       "      <th>educacion_estado</th>\n",
       "      <th>fechanacimiento</th>\n",
       "      <th>sexo</th>\n",
       "      <th>edad</th>\n",
       "    </tr>\n",
       "  </thead>\n",
       "  <tbody>\n",
       "    <tr>\n",
       "      <th>0</th>\n",
       "      <td>0z5VvGv</td>\n",
       "      <td>Secundario</td>\n",
       "      <td>Graduado</td>\n",
       "      <td>Secundario_Graduado</td>\n",
       "      <td>1987-10-18</td>\n",
       "      <td>MASC</td>\n",
       "      <td>30.0</td>\n",
       "    </tr>\n",
       "    <tr>\n",
       "      <th>1</th>\n",
       "      <td>0zB026d</td>\n",
       "      <td>Terciario/Técnico</td>\n",
       "      <td>Graduado</td>\n",
       "      <td>Terciario/Técnico_Graduado</td>\n",
       "      <td>1978-02-23</td>\n",
       "      <td>FEM</td>\n",
       "      <td>40.0</td>\n",
       "    </tr>\n",
       "    <tr>\n",
       "      <th>2</th>\n",
       "      <td>0zB03O9</td>\n",
       "      <td>Terciario/Técnico</td>\n",
       "      <td>En Curso</td>\n",
       "      <td>Terciario/Técnico_En Curso</td>\n",
       "      <td>1987-07-04</td>\n",
       "      <td>FEM</td>\n",
       "      <td>30.0</td>\n",
       "    </tr>\n",
       "  </tbody>\n",
       "</table>\n",
       "</div>"
      ],
      "text/plain": [
       "  idpostulante          educacion    estado            educacion_estado  \\\n",
       "0      0z5VvGv         Secundario  Graduado         Secundario_Graduado   \n",
       "1      0zB026d  Terciario/Técnico  Graduado  Terciario/Técnico_Graduado   \n",
       "2      0zB03O9  Terciario/Técnico  En Curso  Terciario/Técnico_En Curso   \n",
       "\n",
       "  fechanacimiento  sexo  edad  \n",
       "0      1987-10-18  MASC  30.0  \n",
       "1      1978-02-23   FEM  40.0  \n",
       "2      1987-07-04   FEM  30.0  "
      ]
     },
     "execution_count": 85,
     "metadata": {},
     "output_type": "execute_result"
    }
   ],
   "source": [
    "print(postulantes.shape)\n",
    "postulantes.head(3)"
   ]
  },
  {
   "cell_type": "markdown",
   "metadata": {},
   "source": [
    "Observamos que el nuevo dataset ('Postulantes'), presenta la misma dimensión en filas que la tabla con datos de género y edad. "
   ]
  },
  {
   "cell_type": "code",
   "execution_count": 86,
   "metadata": {
    "collapsed": false
   },
   "outputs": [
    {
     "data": {
      "text/plain": [
       "idpostulante            0\n",
       "educacion           12136\n",
       "estado              12136\n",
       "educacion_estado    12136\n",
       "fechanacimiento      4757\n",
       "sexo                    0\n",
       "edad                 4757\n",
       "dtype: int64"
      ]
     },
     "execution_count": 86,
     "metadata": {},
     "output_type": "execute_result"
    }
   ],
   "source": [
    "postulantes.isnull().sum(axis=0)"
   ]
  },
  {
   "cell_type": "markdown",
   "metadata": {},
   "source": [
    "La cantidad de datos faltantes en las columnas referidas al nivel educativo se deben al Join entre los sets de datos originales que componen a 'Postulantes': existen IDs para los cuáles contamos con datos de fecha de nacimiento y género, no así con datos de nivel educativo."
   ]
  },
  {
   "cell_type": "markdown",
   "metadata": {},
   "source": [
    "Realizamos un análisis del nivel educativo de los postulantes a nivel general, y visualizamos a niveles relativos:"
   ]
  },
  {
   "cell_type": "code",
   "execution_count": 87,
   "metadata": {
    "collapsed": false
   },
   "outputs": [
    {
     "data": {
      "text/html": [
       "<div>\n",
       "<table border=\"1\" class=\"dataframe\">\n",
       "  <thead>\n",
       "    <tr style=\"text-align: right;\">\n",
       "      <th></th>\n",
       "      <th>idpostulante</th>\n",
       "      <th>educacion</th>\n",
       "      <th>estado</th>\n",
       "      <th>educacion_estado</th>\n",
       "      <th>fechanacimiento</th>\n",
       "      <th>sexo</th>\n",
       "      <th>edad</th>\n",
       "    </tr>\n",
       "  </thead>\n",
       "  <tbody>\n",
       "    <tr>\n",
       "      <th>0</th>\n",
       "      <td>0z5VvGv</td>\n",
       "      <td>Secundario</td>\n",
       "      <td>Graduado</td>\n",
       "      <td>Secundario_Graduado</td>\n",
       "      <td>1987-10-18</td>\n",
       "      <td>MASC</td>\n",
       "      <td>30.0</td>\n",
       "    </tr>\n",
       "    <tr>\n",
       "      <th>1</th>\n",
       "      <td>0zB026d</td>\n",
       "      <td>Terciario/Técnico</td>\n",
       "      <td>Graduado</td>\n",
       "      <td>Terciario/Técnico_Graduado</td>\n",
       "      <td>1978-02-23</td>\n",
       "      <td>FEM</td>\n",
       "      <td>40.0</td>\n",
       "    </tr>\n",
       "    <tr>\n",
       "      <th>2</th>\n",
       "      <td>0zB03O9</td>\n",
       "      <td>Terciario/Técnico</td>\n",
       "      <td>En Curso</td>\n",
       "      <td>Terciario/Técnico_En Curso</td>\n",
       "      <td>1987-07-04</td>\n",
       "      <td>FEM</td>\n",
       "      <td>30.0</td>\n",
       "    </tr>\n",
       "  </tbody>\n",
       "</table>\n",
       "</div>"
      ],
      "text/plain": [
       "  idpostulante          educacion    estado            educacion_estado  \\\n",
       "0      0z5VvGv         Secundario  Graduado         Secundario_Graduado   \n",
       "1      0zB026d  Terciario/Técnico  Graduado  Terciario/Técnico_Graduado   \n",
       "2      0zB03O9  Terciario/Técnico  En Curso  Terciario/Técnico_En Curso   \n",
       "\n",
       "  fechanacimiento  sexo  edad  \n",
       "0      1987-10-18  MASC  30.0  \n",
       "1      1978-02-23   FEM  40.0  \n",
       "2      1987-07-04   FEM  30.0  "
      ]
     },
     "execution_count": 87,
     "metadata": {},
     "output_type": "execute_result"
    }
   ],
   "source": [
    "postulantes.head(3)"
   ]
  },
  {
   "cell_type": "markdown",
   "metadata": {},
   "source": [
    "Veamos como es la distribución del nivel de educación de los postulantes"
   ]
  },
  {
   "cell_type": "code",
   "execution_count": 88,
   "metadata": {
    "collapsed": false
   },
   "outputs": [
    {
     "data": {
      "text/plain": [
       "Universitario        0.465362\n",
       "Secundario           0.330651\n",
       "Terciario/Técnico    0.145318\n",
       "Posgrado             0.032053\n",
       "Master               0.018410\n",
       "Otro                 0.007089\n",
       "Doctorado            0.001118\n",
       "Name: educacion, dtype: float64"
      ]
     },
     "execution_count": 88,
     "metadata": {},
     "output_type": "execute_result"
    }
   ],
   "source": [
    "Distr_educativa_post = postulantes['educacion'].value_counts(normalize=True)\n",
    "Distr_educativa_post"
   ]
  },
  {
   "cell_type": "code",
   "execution_count": 89,
   "metadata": {
    "collapsed": false
   },
   "outputs": [
    {
     "data": {
      "text/plain": [
       "<matplotlib.text.Text at 0x12ebc152908>"
      ]
     },
     "execution_count": 89,
     "metadata": {},
     "output_type": "execute_result"
    },
    {
     "data": {
      "image/png": "[encoded data removed]",
      "text/plain": [
       "<matplotlib.figure.Figure at 0x12ebc13bb38>"
      ]
     },
     "metadata": {},
     "output_type": "display_data"
    }
   ],
   "source": [
    "Distr_educativa_post.plot.bar(title='Nivel educativo de los postulantes',rot=75, legend=False)  \n",
    "plt.ylabel('Frecuencia relativa')"
   ]
  },
  {
   "cell_type": "markdown",
   "metadata": {},
   "source": [
    "Observamos que el nivel educativo predominante, sin tener en cuenta el estado (graduado/abandonado/terminado) alcanzado, es     el Universitario, seguido en menor proporción por postulantes en nivel secundario o terciario/técnico.\n",
    "    Para mayor detalle, combinamos el nivel educativo y el estado de avance de los estudios y volvemos a generar la                 visualización. "
   ]
  },
  {
   "cell_type": "code",
   "execution_count": 90,
   "metadata": {
    "collapsed": false
   },
   "outputs": [
    {
     "name": "stdout",
     "output_type": "stream",
     "text": [
      "Secundario_Graduado           0.298450\n",
      "Universitario_En Curso        0.247335\n",
      "Universitario_Graduado        0.165604\n",
      "Terciario/Técnico_Graduado    0.077695\n",
      "Universitario_Abandonado      0.052423\n",
      "Name: educacion_estado, dtype: float64\n"
     ]
    },
    {
     "data": {
      "text/plain": [
       "<matplotlib.text.Text at 0x12ebcaf5d30>"
      ]
     },
     "execution_count": 90,
     "metadata": {},
     "output_type": "execute_result"
    },
    {
     "data": {
      "image/png": "[encoded data removed]",
      "text/plain": [
       "<matplotlib.figure.Figure at 0x12ebcb5bd68>"
      ]
     },
     "metadata": {},
     "output_type": "display_data"
    }
   ],
   "source": [
    "Distr_educativa_post_new = postulantes['educacion_estado'].value_counts(normalize=True)\n",
    "print(Distr_educativa_post_new.head(5))\n",
    "\n",
    "Distr_educativa_post_new.plot.bar(title='Nivel educativo de los postulantes (con estado)',rot=90, legend=False)\n",
    "plt.ylabel('Frecuencia relativa')"
   ]
  },
  {
   "cell_type": "markdown",
   "metadata": {},
   "source": [
    "Aquí observamos con más claridad el perfil educativo de los postulantes, y podemos ver que quienes predominan en la búsqueda laboral en el sitio son aquellos con máximo nivel alcanzado de secundario completo, y universitario en curso y graduado; estas tres categorías agregan más del 70% de los perfiles."
   ]
  },
  {
   "cell_type": "markdown",
   "metadata": {},
   "source": [
    "Luego de obtener el perfil educativo de los postulantes, nos interesa saber también la edad de los usuarios, para lo cual realizamos una visualización de su distribución etaria; allí vemos que la mayor parte de los postulantes se encuentran entre los 20 y 35 años.\n",
    "\n",
    "Teniendo en cuenta el perfil educativo y edad de los consumidores, y teniendo en cuenta sus hábitos de consumo, recomendamos a Zonajobs considerar la opción de desarrollar una aplicación para teléfonos móviles, la cual entendemos, los acercaría más a su consumidor promedio y a su vez les permitiría generar alertas y obtener datos que de forma más sencilla."
   ]
  },
  {
   "cell_type": "code",
   "execution_count": 91,
   "metadata": {
    "collapsed": false,
    "scrolled": true
   },
   "outputs": [
    {
     "data": {
      "text/plain": [
       "<matplotlib.text.Text at 0x12eb8853828>"
      ]
     },
     "execution_count": 91,
     "metadata": {},
     "output_type": "execute_result"
    },
    {
     "data": {
      "image/png": "[encoded data removed]",
      "text/plain": [
       "<matplotlib.figure.Figure at 0x12eb885acf8>"
      ]
     },
     "metadata": {},
     "output_type": "display_data"
    }
   ],
   "source": [
    "edadPostulantesNorm= postulantes[(postulantes['edad']>= 18) & (postulantes['edad']<= 90)]\n",
    "edadPostulantesNorm= edadPostulantesNorm['edad'].value_counts(normalize= True)\n",
    "edadPostulantesNorm = edadPostulantesNorm.sort_index()\n",
    "edadPostulantesNorm.plot.line(title=\"Distribución etaria de los postulantes\", marker= \"*\")\n",
    "\n",
    "plt.ylabel('Frecuencia relativa')\n",
    "plt.xlabel('Edad')"
   ]
  },
  {
   "cell_type": "markdown",
   "metadata": {},
   "source": [
    "Ante la presencia de valores nulos tanto en las variables 'Sexo' como 'edad', planteamos el interrogante de la existencia de     alguna interacción entre dichos casos; intentamos entender si tiene sentido preguntarnos la posibilidad de que algun género     se sienta más 'presionado' a no informar su edad, respecto al otro. \n",
    "    Verificamos nuestro supuesto mediante una tabla de doble entrada:"
   ]
  },
  {
   "cell_type": "code",
   "execution_count": 92,
   "metadata": {
    "collapsed": false
   },
   "outputs": [
    {
     "data": {
      "text/plain": [
       "FEM           101981\n",
       "MASC           94339\n",
       "NO_DECLARA      4568\n",
       "Name: sexo, dtype: int64"
      ]
     },
     "execution_count": 92,
     "metadata": {},
     "output_type": "execute_result"
    }
   ],
   "source": [
    "postulantes['sexo'].value_counts()"
   ]
  },
  {
   "cell_type": "code",
   "execution_count": 93,
   "metadata": {
    "collapsed": false
   },
   "outputs": [
    {
     "data": {
      "text/plain": [
       "False    196131\n",
       "True       4757\n",
       "Name: edad, dtype: int64"
      ]
     },
     "execution_count": 93,
     "metadata": {},
     "output_type": "execute_result"
    }
   ],
   "source": [
    "postulantes['edad'].isnull().value_counts()"
   ]
  },
  {
   "cell_type": "code",
   "execution_count": 94,
   "metadata": {
    "collapsed": false
   },
   "outputs": [
    {
     "data": {
      "text/html": [
       "<div>\n",
       "<table border=\"1\" class=\"dataframe\">\n",
       "  <thead>\n",
       "    <tr style=\"text-align: right;\">\n",
       "      <th>No declara edad</th>\n",
       "      <th>False</th>\n",
       "      <th>True</th>\n",
       "    </tr>\n",
       "    <tr>\n",
       "      <th>Sexo declarado</th>\n",
       "      <th></th>\n",
       "      <th></th>\n",
       "    </tr>\n",
       "  </thead>\n",
       "  <tbody>\n",
       "    <tr>\n",
       "      <th>FEM</th>\n",
       "      <td>101674</td>\n",
       "      <td>307</td>\n",
       "    </tr>\n",
       "    <tr>\n",
       "      <th>MASC</th>\n",
       "      <td>94013</td>\n",
       "      <td>326</td>\n",
       "    </tr>\n",
       "    <tr>\n",
       "      <th>NO_DECLARA</th>\n",
       "      <td>444</td>\n",
       "      <td>4124</td>\n",
       "    </tr>\n",
       "  </tbody>\n",
       "</table>\n",
       "</div>"
      ],
      "text/plain": [
       "No declara edad   False  True \n",
       "Sexo declarado                \n",
       "FEM              101674    307\n",
       "MASC              94013    326\n",
       "NO_DECLARA          444   4124"
      ]
     },
     "execution_count": 94,
     "metadata": {},
     "output_type": "execute_result"
    }
   ],
   "source": [
    "pd.crosstab(postulantes['sexo'],postulantes['edad'].isnull(),rownames=['Sexo declarado'],colnames=['No declara edad'])"
   ]
  },
  {
   "cell_type": "code",
   "execution_count": 95,
   "metadata": {
    "collapsed": false
   },
   "outputs": [
    {
     "data": {
      "text/html": [
       "<div>\n",
       "<table border=\"1\" class=\"dataframe\">\n",
       "  <thead>\n",
       "    <tr style=\"text-align: right;\">\n",
       "      <th>No declara edad</th>\n",
       "      <th>False</th>\n",
       "      <th>True</th>\n",
       "    </tr>\n",
       "    <tr>\n",
       "      <th>Sexo declarado</th>\n",
       "      <th></th>\n",
       "      <th></th>\n",
       "    </tr>\n",
       "  </thead>\n",
       "  <tbody>\n",
       "    <tr>\n",
       "      <th>FEM</th>\n",
       "      <td>0.996990</td>\n",
       "      <td>0.003010</td>\n",
       "    </tr>\n",
       "    <tr>\n",
       "      <th>MASC</th>\n",
       "      <td>0.996544</td>\n",
       "      <td>0.003456</td>\n",
       "    </tr>\n",
       "    <tr>\n",
       "      <th>NO_DECLARA</th>\n",
       "      <td>0.097198</td>\n",
       "      <td>0.902802</td>\n",
       "    </tr>\n",
       "  </tbody>\n",
       "</table>\n",
       "</div>"
      ],
      "text/plain": [
       "No declara edad     False     True \n",
       "Sexo declarado                     \n",
       "FEM              0.996990  0.003010\n",
       "MASC             0.996544  0.003456\n",
       "NO_DECLARA       0.097198  0.902802"
      ]
     },
     "execution_count": 95,
     "metadata": {},
     "output_type": "execute_result"
    }
   ],
   "source": [
    "aux= pd.crosstab(postulantes['sexo'],postulantes['fechanacimiento'].isnull(),rownames=['Sexo declarado'],colnames=['No declara edad'])\n",
    "aux= aux.div(aux.sum(1),0)\n",
    "aux.round(decimals=3)\n",
    "aux"
   ]
  },
  {
   "cell_type": "markdown",
   "metadata": {},
   "source": [
    "En la tabla anterior podemos observar que, entre quienes declaran su sexo, una proporción muy menor y pareja entre ambos         decide no declarar su edad; por otro lado, más del 90% de quienes no declaran su edad, tampoco lo hacen con su sexo.\n",
    "    Concluimos que no existen presiones diferenciales respecto a la declaración de edad para los distintos sexos, o que en caso     de suceder, vienen acompañados de una reserva respecto al propio sexo. "
   ]
  },
  {
   "cell_type": "markdown",
   "metadata": {},
   "source": [
    "## Exploramos el tercer set de datos disponibles: Vistas de avisos online y offline"
   ]
  },
  {
   "cell_type": "markdown",
   "metadata": {},
   "source": [
    "En este dataset nos adentramos ya en la relación existente entre avisos, las vistas de sus postulantes, y la ubicación           temporal de las mismas. En base a esto, intentamos encontrar patrones de comportamiento de los usuarios respecto a los           momentos de mayor utilización de la plataforma de búsquedas. \n",
    "    Previo a esto, analizamos estructura, presencia de datos faltantes, duplicados, y las transformaciones necesarias para el       mencionado análisis:"
   ]
  },
  {
   "cell_type": "code",
   "execution_count": 96,
   "metadata": {
    "collapsed": false,
    "scrolled": true
   },
   "outputs": [],
   "source": [
    "vistas = pd.read_csv('Data/fiuba_3_vistas.csv')"
   ]
  },
  {
   "cell_type": "code",
   "execution_count": 97,
   "metadata": {
    "collapsed": false
   },
   "outputs": [
    {
     "name": "stdout",
     "output_type": "stream",
     "text": [
      "(961897, 3)\n"
     ]
    },
    {
     "data": {
      "text/html": [
       "<div>\n",
       "<table border=\"1\" class=\"dataframe\">\n",
       "  <thead>\n",
       "    <tr style=\"text-align: right;\">\n",
       "      <th></th>\n",
       "      <th>idAviso</th>\n",
       "      <th>timestamp</th>\n",
       "      <th>idpostulante</th>\n",
       "    </tr>\n",
       "  </thead>\n",
       "  <tbody>\n",
       "    <tr>\n",
       "      <th>0</th>\n",
       "      <td>1111780242</td>\n",
       "      <td>2018-02-23T13:38:13.187-0500</td>\n",
       "      <td>YjVJQ6Z</td>\n",
       "    </tr>\n",
       "    <tr>\n",
       "      <th>1</th>\n",
       "      <td>1112263876</td>\n",
       "      <td>2018-02-23T13:38:14.296-0500</td>\n",
       "      <td>BmVpYoR</td>\n",
       "    </tr>\n",
       "    <tr>\n",
       "      <th>2</th>\n",
       "      <td>1112327963</td>\n",
       "      <td>2018-02-23T13:38:14.329-0500</td>\n",
       "      <td>wVkBzZd</td>\n",
       "    </tr>\n",
       "  </tbody>\n",
       "</table>\n",
       "</div>"
      ],
      "text/plain": [
       "      idAviso                     timestamp idpostulante\n",
       "0  1111780242  2018-02-23T13:38:13.187-0500      YjVJQ6Z\n",
       "1  1112263876  2018-02-23T13:38:14.296-0500      BmVpYoR\n",
       "2  1112327963  2018-02-23T13:38:14.329-0500      wVkBzZd"
      ]
     },
     "execution_count": 97,
     "metadata": {},
     "output_type": "execute_result"
    }
   ],
   "source": [
    "print(vistas.shape)\n",
    "vistas.head(3)"
   ]
  },
  {
   "cell_type": "code",
   "execution_count": 98,
   "metadata": {
    "collapsed": false
   },
   "outputs": [
    {
     "data": {
      "text/html": [
       "<div>\n",
       "<table border=\"1\" class=\"dataframe\">\n",
       "  <thead>\n",
       "    <tr style=\"text-align: right;\">\n",
       "      <th></th>\n",
       "      <th>idAviso</th>\n",
       "      <th>fechavista</th>\n",
       "      <th>idpostulante</th>\n",
       "    </tr>\n",
       "  </thead>\n",
       "  <tbody>\n",
       "    <tr>\n",
       "      <th>0</th>\n",
       "      <td>1111780242</td>\n",
       "      <td>2018-02-23T13:38:13.187-0500</td>\n",
       "      <td>YjVJQ6Z</td>\n",
       "    </tr>\n",
       "  </tbody>\n",
       "</table>\n",
       "</div>"
      ],
      "text/plain": [
       "      idAviso                    fechavista idpostulante\n",
       "0  1111780242  2018-02-23T13:38:13.187-0500      YjVJQ6Z"
      ]
     },
     "execution_count": 98,
     "metadata": {},
     "output_type": "execute_result"
    }
   ],
   "source": [
    "#renombramos a timestamp_vistas\n",
    "vistas = vistas.rename(columns={'timestamp': 'fechavista'})\n",
    "vistas.head(1)"
   ]
  },
  {
   "cell_type": "code",
   "execution_count": 99,
   "metadata": {
    "collapsed": false
   },
   "outputs": [
    {
     "data": {
      "text/plain": [
       "idAviso         0\n",
       "fechavista      0\n",
       "idpostulante    0\n",
       "dtype: int64"
      ]
     },
     "execution_count": 99,
     "metadata": {},
     "output_type": "execute_result"
    }
   ],
   "source": [
    "vistas.isnull().sum(axis=0)"
   ]
  },
  {
   "cell_type": "code",
   "execution_count": 100,
   "metadata": {
    "collapsed": false
   },
   "outputs": [
    {
     "data": {
      "text/plain": [
       "idAviso         0\n",
       "fechavista      0\n",
       "idpostulante    0\n",
       "dtype: int64"
      ]
     },
     "execution_count": 100,
     "metadata": {},
     "output_type": "execute_result"
    }
   ],
   "source": [
    "vistas['fechavista']= pd.to_datetime(vistas['fechavista'], errors='coerce') \n",
    "vistas.isnull().sum(axis=0)"
   ]
  },
  {
   "cell_type": "markdown",
   "metadata": {},
   "source": [
    "No hay datos nulos y las fechas fueron todas bien formateadas (interpretadas)."
   ]
  },
  {
   "cell_type": "code",
   "execution_count": 101,
   "metadata": {
    "collapsed": false
   },
   "outputs": [
    {
     "name": "stdout",
     "output_type": "stream",
     "text": [
      "<class 'pandas.core.frame.DataFrame'>\n",
      "RangeIndex: 961897 entries, 0 to 961896\n",
      "Data columns (total 3 columns):\n",
      "idAviso         961897 non-null int64\n",
      "fechavista      961897 non-null datetime64[ns]\n",
      "idpostulante    961897 non-null object\n",
      "dtypes: datetime64[ns](1), int64(1), object(1)\n",
      "memory usage: 22.0+ MB\n"
     ]
    }
   ],
   "source": [
    "vistas.info()"
   ]
  },
  {
   "cell_type": "code",
   "execution_count": 102,
   "metadata": {
    "collapsed": false
   },
   "outputs": [
    {
     "data": {
      "text/plain": [
       "count         961897\n",
       "unique          7458\n",
       "top       1112363488\n",
       "freq            4169\n",
       "Name: idAviso, dtype: int64"
      ]
     },
     "execution_count": 102,
     "metadata": {},
     "output_type": "execute_result"
    }
   ],
   "source": [
    "vistas['idAviso'].astype('object').describe()"
   ]
  },
  {
   "cell_type": "code",
   "execution_count": 103,
   "metadata": {
    "collapsed": false
   },
   "outputs": [],
   "source": [
    "vistas['year']  = vistas['fechavista'].dt.year\n",
    "vistas['month'] = vistas['fechavista'].dt.month\n",
    "vistas['day']   = vistas['fechavista'].dt.day\n",
    "vistas['hour']  = vistas['fechavista'].dt.hour\n",
    "vistas['dow']   = vistas['fechavista'].dt.dayofweek\n",
    "vistas['dayString'] = vistas['fechavista'].dt.weekday_name\n",
    "\n",
    "diasDic = {0:'Lunes',1:'Martes',2:'Miércoles',3:'Jueves',4:'Viernes',5:'Sábado',6:'Domingo'}\n",
    "vistas['diaString'] = vistas['dow'].apply(lambda x: diasDic[x])"
   ]
  },
  {
   "cell_type": "code",
   "execution_count": 104,
   "metadata": {
    "collapsed": false
   },
   "outputs": [
    {
     "data": {
      "text/html": [
       "<div>\n",
       "<table border=\"1\" class=\"dataframe\">\n",
       "  <thead>\n",
       "    <tr style=\"text-align: right;\">\n",
       "      <th></th>\n",
       "      <th>idAviso</th>\n",
       "      <th>fechavista</th>\n",
       "      <th>idpostulante</th>\n",
       "      <th>year</th>\n",
       "      <th>month</th>\n",
       "      <th>day</th>\n",
       "      <th>hour</th>\n",
       "      <th>dow</th>\n",
       "      <th>dayString</th>\n",
       "      <th>diaString</th>\n",
       "    </tr>\n",
       "  </thead>\n",
       "  <tbody>\n",
       "    <tr>\n",
       "      <th>961894</th>\n",
       "      <td>1112362644</td>\n",
       "      <td>2018-03-01 04:59:46.181</td>\n",
       "      <td>owzLD43</td>\n",
       "      <td>2018</td>\n",
       "      <td>3</td>\n",
       "      <td>1</td>\n",
       "      <td>4</td>\n",
       "      <td>3</td>\n",
       "      <td>Thursday</td>\n",
       "      <td>Jueves</td>\n",
       "    </tr>\n",
       "    <tr>\n",
       "      <th>961895</th>\n",
       "      <td>1112305277</td>\n",
       "      <td>2018-03-01 04:59:52.754</td>\n",
       "      <td>A3DraY1</td>\n",
       "      <td>2018</td>\n",
       "      <td>3</td>\n",
       "      <td>1</td>\n",
       "      <td>4</td>\n",
       "      <td>3</td>\n",
       "      <td>Thursday</td>\n",
       "      <td>Jueves</td>\n",
       "    </tr>\n",
       "    <tr>\n",
       "      <th>961896</th>\n",
       "      <td>1112345900</td>\n",
       "      <td>2018-03-01 04:59:55.409</td>\n",
       "      <td>ekmNzBW</td>\n",
       "      <td>2018</td>\n",
       "      <td>3</td>\n",
       "      <td>1</td>\n",
       "      <td>4</td>\n",
       "      <td>3</td>\n",
       "      <td>Thursday</td>\n",
       "      <td>Jueves</td>\n",
       "    </tr>\n",
       "  </tbody>\n",
       "</table>\n",
       "</div>"
      ],
      "text/plain": [
       "           idAviso              fechavista idpostulante  year  month  day  \\\n",
       "961894  1112362644 2018-03-01 04:59:46.181      owzLD43  2018      3    1   \n",
       "961895  1112305277 2018-03-01 04:59:52.754      A3DraY1  2018      3    1   \n",
       "961896  1112345900 2018-03-01 04:59:55.409      ekmNzBW  2018      3    1   \n",
       "\n",
       "        hour  dow dayString diaString  \n",
       "961894     4    3  Thursday    Jueves  \n",
       "961895     4    3  Thursday    Jueves  \n",
       "961896     4    3  Thursday    Jueves  "
      ]
     },
     "execution_count": 104,
     "metadata": {},
     "output_type": "execute_result"
    }
   ],
   "source": [
    "vistas.tail(3)"
   ]
  },
  {
   "cell_type": "code",
   "execution_count": 105,
   "metadata": {
    "collapsed": false
   },
   "outputs": [
    {
     "data": {
      "text/plain": [
       "pandas.core.series.Series"
      ]
     },
     "execution_count": 105,
     "metadata": {},
     "output_type": "execute_result"
    }
   ],
   "source": [
    "hora_vistas = vistas['hour'].value_counts(normalize=True)\n",
    "hora_vistas = hora_vistas.sort_index()\n",
    "type(hora_vistas)"
   ]
  },
  {
   "cell_type": "markdown",
   "metadata": {},
   "source": [
    "Luego de realizar todas las verificaciones y transformaciones necesarias, nos disponemos a estudiar el comportamiento respecto a       vistas de los postulantes.\n",
    "    \n",
    "Las conclusiones obtenidas fueron las siguientes:\n",
    "- Las búsquedas y vistas siguen un patrón claro a través del día: las mismas tienen un pico que comienza por la media mañana       con su punto máximo pasado el mediodía, con una baja pronunciada después de las 14 - 15 hs. Esto posiblemente se explique por       todas aquellas personas empleadas que utilizan su horario de almuerzo para realizar búsquedas; finalizado la jornada             laboral promedio (17 a 19 hs.), se vuelve a generar otro pico ahora menos pronunciado, el cual decae al adentrarse la noche.\n",
    "  Este segundo pico no se genera los fines de semana, sino que al contrario, la actividad decae con la misma fuerza con la         que asciende durante la semana. \n",
    "- En cuanto al comportamiento a traves de los días de la semana, nos vemos sorprendidos al observar un desbalance de gran         magnitud en la actividad entre días; la búsqueda es entre 3 y 4 veces más intensa los primeros tres días de la semana           (contando al lunes como primer día), y decae abrúptamente los días jueves y viernes, recuperandose con poca fuerza los           fines de semana. \n",
    "  Este comportamiento, de hecho, nos genera reservas respecto a la muestra de datos con la que trabajamos, ya que no               encontramos ninguna hipótesis fuerte que justifique esta variación tan abrupta; sin embargo, haciendo a un lado       dicha idea, podemos sospechar que la mayoría de los avisos se postulen al comienzo de la semana y la             actividad siga esta tendencia. \n",
    "  Ante este supuesto a verificar, recomendamos a Zonajobs generar alertas y/o notificaciones en los días de menor tráfico, \n",
    "  a modo de atraer postulantes hacia la web."
   ]
  },
  {
   "cell_type": "code",
   "execution_count": 106,
   "metadata": {
    "collapsed": false
   },
   "outputs": [
    {
     "data": {
      "text/plain": [
       "<matplotlib.text.Text at 0x12ec2bd4cf8>"
      ]
     },
     "execution_count": 106,
     "metadata": {},
     "output_type": "execute_result"
    },
    {
     "data": {
      "image/png": "[encoded data removed]",
      "text/plain": [
       "<matplotlib.figure.Figure at 0x12ec2bc99e8>"
      ]
     },
     "metadata": {},
     "output_type": "display_data"
    }
   ],
   "source": [
    "#Vistas fines de semana\n",
    "hora_vistas_weekend=vistas.loc[vistas['diaString'].isin(['Sábado','Domingo'])]\n",
    "hora_vistas_weekend = hora_vistas_weekend['hour'].value_counts(normalize=True)\n",
    "hora_vistas_weekend = hora_vistas_weekend.sort_index()\n",
    "#Vistas en la semana\n",
    "hora_vistas_week=vistas.loc[vistas['diaString'].isin(['Sábado','Domingo'])==False]\n",
    "hora_vistas_week = hora_vistas_week['hour'].value_counts(normalize=True)\n",
    "hora_vistas_week = hora_vistas_week.sort_index()\n",
    "#Plots\n",
    "hora_vistas_weekend.plot.line(title='Vistas por hora',marker='*',linestyle='--') \n",
    "hora_vistas_week.plot.line(title='Vistas por hora',marker='s',linestyle='-') \n",
    "hora_vistas.plot.line(title='Vistas por hora',marker='.',linestyle=':') \n",
    "plt.ylabel('Vistas/hora')\n",
    "plt.xlabel('Hora del dia')"
   ]
  },
  {
   "cell_type": "code",
   "execution_count": 107,
   "metadata": {
    "collapsed": false
   },
   "outputs": [
    {
     "name": "stdout",
     "output_type": "stream",
     "text": [
      "<class 'pandas.core.frame.DataFrame'>\n"
     ]
    },
    {
     "data": {
      "text/plain": [
       "<matplotlib.text.Text at 0x12eaa7457f0>"
      ]
     },
     "execution_count": 107,
     "metadata": {},
     "output_type": "execute_result"
    },
    {
     "data": {
      "image/png": "[encoded data removed]",
      "text/plain": [
       "<matplotlib.figure.Figure at 0x12ec2bce3c8>"
      ]
     },
     "metadata": {},
     "output_type": "display_data"
    }
   ],
   "source": [
    "diaString_vistas= vistas['diaString'].value_counts().reset_index()\n",
    "diaString_vistas.columns = ['Días de la semana', 'count'] \n",
    "print(type(diaString_vistas))\n",
    "\n",
    "dias = ['Lunes','Martes','Miércoles','Jueves','Viernes','Sábado', 'Domingo']\n",
    "mapping = {dia: i for i, dia in enumerate(dias)}\n",
    "key = diaString_vistas['Días de la semana'].map(mapping)\n",
    "\n",
    "diaString_vistas = diaString_vistas.iloc[key.argsort()].set_index('Días de la semana')\n",
    "diaString_vistas.plot.bar(title='Vistas por día', rot=45, legend=False)  \n",
    "plt.ylabel('Vistas por dia')"
   ]
  },
  {
   "cell_type": "markdown",
   "metadata": {},
   "source": [
    "## Exploramos el cuarto set de datos disponibles: Postulaciones a avisos\n",
    "\n",
    "\n",
    "Utilizamos el mismo enfoque empleado para las vistas, y concluimos en base a ambos resultados:\n",
    "     \n",
    "La actividad a través del día sigue un patrón similar en su forma, sin embargo el pico se encuentra en horas previas al reportado para las vistas. Se habría esperado el efecto contrario, esperando que quien visite luego se postule. Esto no se condice con la información relevada, sin embargo podemos afirmar que el pico de uso de los servicios se encuentran entre las 8 am y 14 pm, tanto para vistas o postulaciones.\n",
    "\n",
    "Respecto a las postulaciones a lo largo de la semana, también observamos un patrón similar respecto a las vistas, sin embargo la caída pasada la media semana es mucho menos pronunciada; de hecho, la actividad de postulaciones en días jueves y viernes es superior a la de fines de semana, cosa que no sucede con las vistas. \n",
    "     "
   ]
  },
  {
   "cell_type": "code",
   "execution_count": 108,
   "metadata": {
    "collapsed": false
   },
   "outputs": [
    {
     "name": "stdout",
     "output_type": "stream",
     "text": [
      "(3401623, 3)\n",
      "idaviso                  int64\n",
      "idpostulante            object\n",
      "fechapost       datetime64[ns]\n",
      "dtype: object\n"
     ]
    },
    {
     "data": {
      "text/html": [
       "<div>\n",
       "<table border=\"1\" class=\"dataframe\">\n",
       "  <thead>\n",
       "    <tr style=\"text-align: right;\">\n",
       "      <th></th>\n",
       "      <th>idaviso</th>\n",
       "      <th>idpostulante</th>\n",
       "      <th>fechapost</th>\n",
       "    </tr>\n",
       "  </thead>\n",
       "  <tbody>\n",
       "    <tr>\n",
       "      <th>0</th>\n",
       "      <td>1112257047</td>\n",
       "      <td>NM5M</td>\n",
       "      <td>2018-01-15 16:22:34</td>\n",
       "    </tr>\n",
       "    <tr>\n",
       "      <th>1</th>\n",
       "      <td>1111920714</td>\n",
       "      <td>NM5M</td>\n",
       "      <td>2018-02-06 09:04:50</td>\n",
       "    </tr>\n",
       "    <tr>\n",
       "      <th>2</th>\n",
       "      <td>1112346945</td>\n",
       "      <td>NM5M</td>\n",
       "      <td>2018-02-22 09:04:47</td>\n",
       "    </tr>\n",
       "  </tbody>\n",
       "</table>\n",
       "</div>"
      ],
      "text/plain": [
       "      idaviso idpostulante           fechapost\n",
       "0  1112257047         NM5M 2018-01-15 16:22:34\n",
       "1  1111920714         NM5M 2018-02-06 09:04:50\n",
       "2  1112346945         NM5M 2018-02-22 09:04:47"
      ]
     },
     "execution_count": 108,
     "metadata": {},
     "output_type": "execute_result"
    }
   ],
   "source": [
    "postulaciones = pd.read_csv('Data/fiuba_4_postulaciones.csv',parse_dates=['fechapostulacion'])\n",
    "postulaciones = postulaciones.rename(columns={'fechapostulacion': 'fechapost'})\n",
    "print(postulaciones.shape)\n",
    "print(postulaciones.dtypes)\n",
    "postulaciones.head(3)"
   ]
  },
  {
   "cell_type": "code",
   "execution_count": 109,
   "metadata": {
    "collapsed": false
   },
   "outputs": [
    {
     "data": {
      "text/plain": [
       "idaviso         0\n",
       "idpostulante    0\n",
       "fechapost       0\n",
       "dtype: int64"
      ]
     },
     "execution_count": 109,
     "metadata": {},
     "output_type": "execute_result"
    }
   ],
   "source": [
    "postulaciones.isnull().sum(axis=0)"
   ]
  },
  {
   "cell_type": "code",
   "execution_count": 110,
   "metadata": {
    "collapsed": false
   },
   "outputs": [
    {
     "data": {
      "text/html": [
       "<div>\n",
       "<table border=\"1\" class=\"dataframe\">\n",
       "  <thead>\n",
       "    <tr style=\"text-align: right;\">\n",
       "      <th></th>\n",
       "      <th>idaviso</th>\n",
       "      <th>idpostulante</th>\n",
       "      <th>fechapost</th>\n",
       "      <th>year</th>\n",
       "      <th>month</th>\n",
       "      <th>day</th>\n",
       "      <th>hour</th>\n",
       "      <th>dow</th>\n",
       "    </tr>\n",
       "  </thead>\n",
       "  <tbody>\n",
       "    <tr>\n",
       "      <th>0</th>\n",
       "      <td>1112257047</td>\n",
       "      <td>NM5M</td>\n",
       "      <td>2018-01-15 16:22:34</td>\n",
       "      <td>2018</td>\n",
       "      <td>1</td>\n",
       "      <td>15</td>\n",
       "      <td>16</td>\n",
       "      <td>0</td>\n",
       "    </tr>\n",
       "  </tbody>\n",
       "</table>\n",
       "</div>"
      ],
      "text/plain": [
       "      idaviso idpostulante           fechapost  year  month  day  hour  dow\n",
       "0  1112257047         NM5M 2018-01-15 16:22:34  2018      1   15    16    0"
      ]
     },
     "execution_count": 110,
     "metadata": {},
     "output_type": "execute_result"
    }
   ],
   "source": [
    "postulaciones['year']  = postulaciones['fechapost'].dt.year\n",
    "postulaciones['month'] = postulaciones['fechapost'].dt.month\n",
    "postulaciones['day']   = postulaciones['fechapost'].dt.day\n",
    "postulaciones['hour']  = postulaciones['fechapost'].dt.hour\n",
    "postulaciones['dow']   = postulaciones['fechapost'].dt.dayofweek\n",
    "postulaciones.head(1)"
   ]
  },
  {
   "cell_type": "code",
   "execution_count": 111,
   "metadata": {
    "collapsed": false,
    "scrolled": true
   },
   "outputs": [
    {
     "data": {
      "text/plain": [
       "<matplotlib.text.Text at 0x12ec9201390>"
      ]
     },
     "execution_count": 111,
     "metadata": {},
     "output_type": "execute_result"
    },
    {
     "data": {
      "image/png": "[encoded data removed]",
      "text/plain": [
       "<matplotlib.figure.Figure at 0x12ebf4f9f60>"
      ]
     },
     "metadata": {},
     "output_type": "display_data"
    }
   ],
   "source": [
    "hora_postulaciones = postulaciones['hour'].value_counts(normalize=True)\n",
    "hora_postulaciones = hora_postulaciones.sort_index()\n",
    "hora_postulaciones.plot.line(title='Postulaciones por hora',marker='.',linestyle=':')\n",
    "plt.ylabel('Frecuencia relativa')\n",
    "plt.xlabel('Hora del día')"
   ]
  },
  {
   "cell_type": "code",
   "execution_count": 112,
   "metadata": {
    "collapsed": false
   },
   "outputs": [
    {
     "data": {
      "text/plain": [
       "<matplotlib.text.Text at 0x12ed05985f8>"
      ]
     },
     "execution_count": 112,
     "metadata": {},
     "output_type": "execute_result"
    },
    {
     "data": {
      "image/png": "[encoded data removed]",
      "text/plain": [
       "<matplotlib.figure.Figure at 0x12ec5e44780>"
      ]
     },
     "metadata": {},
     "output_type": "display_data"
    }
   ],
   "source": [
    "dia_postulaciones = postulaciones['dow'].value_counts(normalize=True).reset_index()\n",
    "dia_postulaciones = dia_postulaciones.sort_values('index', ascending=True)\n",
    "dia_postulaciones.columns = ['Dias de la semana', 'count'] \n",
    "#The day of the week with Monday=0, Sunday=6\n",
    "dia_postulaciones['Dias de la semana']   = dia_postulaciones['Dias de la semana'].\\\n",
    "map({0:'Lunes',1:'Martes',2:'Miércoles',3:'Jueves',4:'Viernes',5:'Sábado',6:'Domingo'})\n",
    "\n",
    "dia_postulaciones.plot.bar(x='Dias de la semana',title='Postulaciones por día',rot=45, legend=False)  \n",
    "plt.ylabel('Frecuencia relativa')\n",
    "#print((dia_postulaciones))"
   ]
  },
  {
   "cell_type": "code",
   "execution_count": 113,
   "metadata": {
    "collapsed": false,
    "scrolled": true
   },
   "outputs": [
    {
     "name": "stdout",
     "output_type": "stream",
     "text": [
      "Recordemos que la dimension de postulantes es:  (200888, 7)\n"
     ]
    },
    {
     "data": {
      "text/html": [
       "<div>\n",
       "<table border=\"1\" class=\"dataframe\">\n",
       "  <thead>\n",
       "    <tr style=\"text-align: right;\">\n",
       "      <th></th>\n",
       "      <th>idpostulante</th>\n",
       "      <th>educacion</th>\n",
       "      <th>estado</th>\n",
       "      <th>educacion_estado</th>\n",
       "      <th>fechanacimiento</th>\n",
       "      <th>sexo</th>\n",
       "      <th>edad</th>\n",
       "    </tr>\n",
       "  </thead>\n",
       "  <tbody>\n",
       "    <tr>\n",
       "      <th>0</th>\n",
       "      <td>0z5VvGv</td>\n",
       "      <td>Secundario</td>\n",
       "      <td>Graduado</td>\n",
       "      <td>Secundario_Graduado</td>\n",
       "      <td>1987-10-18</td>\n",
       "      <td>MASC</td>\n",
       "      <td>30.0</td>\n",
       "    </tr>\n",
       "    <tr>\n",
       "      <th>1</th>\n",
       "      <td>0zB026d</td>\n",
       "      <td>Terciario/Técnico</td>\n",
       "      <td>Graduado</td>\n",
       "      <td>Terciario/Técnico_Graduado</td>\n",
       "      <td>1978-02-23</td>\n",
       "      <td>FEM</td>\n",
       "      <td>40.0</td>\n",
       "    </tr>\n",
       "    <tr>\n",
       "      <th>2</th>\n",
       "      <td>0zB03O9</td>\n",
       "      <td>Terciario/Técnico</td>\n",
       "      <td>En Curso</td>\n",
       "      <td>Terciario/Técnico_En Curso</td>\n",
       "      <td>1987-07-04</td>\n",
       "      <td>FEM</td>\n",
       "      <td>30.0</td>\n",
       "    </tr>\n",
       "    <tr>\n",
       "      <th>3</th>\n",
       "      <td>0zB08lq</td>\n",
       "      <td>Secundario</td>\n",
       "      <td>Graduado</td>\n",
       "      <td>Secundario_Graduado</td>\n",
       "      <td>1972-06-09</td>\n",
       "      <td>MASC</td>\n",
       "      <td>45.0</td>\n",
       "    </tr>\n",
       "    <tr>\n",
       "      <th>4</th>\n",
       "      <td>0zB0NWY</td>\n",
       "      <td>Universitario</td>\n",
       "      <td>Graduado</td>\n",
       "      <td>Universitario_Graduado</td>\n",
       "      <td>1987-09-20</td>\n",
       "      <td>FEM</td>\n",
       "      <td>30.0</td>\n",
       "    </tr>\n",
       "    <tr>\n",
       "      <th>5</th>\n",
       "      <td>0zB0Xwd</td>\n",
       "      <td>Universitario</td>\n",
       "      <td>En Curso</td>\n",
       "      <td>Universitario_En Curso</td>\n",
       "      <td>1989-09-18</td>\n",
       "      <td>FEM</td>\n",
       "      <td>28.0</td>\n",
       "    </tr>\n",
       "    <tr>\n",
       "      <th>6</th>\n",
       "      <td>0zB0YGv</td>\n",
       "      <td>Universitario</td>\n",
       "      <td>Abandonado</td>\n",
       "      <td>Universitario_Abandonado</td>\n",
       "      <td>1989-02-25</td>\n",
       "      <td>FEM</td>\n",
       "      <td>29.0</td>\n",
       "    </tr>\n",
       "    <tr>\n",
       "      <th>7</th>\n",
       "      <td>0zB0e1d</td>\n",
       "      <td>Universitario</td>\n",
       "      <td>En Curso</td>\n",
       "      <td>Universitario_En Curso</td>\n",
       "      <td>1990-11-17</td>\n",
       "      <td>MASC</td>\n",
       "      <td>27.0</td>\n",
       "    </tr>\n",
       "    <tr>\n",
       "      <th>8</th>\n",
       "      <td>0zB0eDY</td>\n",
       "      <td>Terciario/Técnico</td>\n",
       "      <td>Graduado</td>\n",
       "      <td>Terciario/Técnico_Graduado</td>\n",
       "      <td>1994-06-21</td>\n",
       "      <td>FEM</td>\n",
       "      <td>23.0</td>\n",
       "    </tr>\n",
       "    <tr>\n",
       "      <th>9</th>\n",
       "      <td>0zB0qGE</td>\n",
       "      <td>Secundario</td>\n",
       "      <td>Graduado</td>\n",
       "      <td>Secundario_Graduado</td>\n",
       "      <td>1979-08-16</td>\n",
       "      <td>MASC</td>\n",
       "      <td>38.0</td>\n",
       "    </tr>\n",
       "  </tbody>\n",
       "</table>\n",
       "</div>"
      ],
      "text/plain": [
       "  idpostulante          educacion      estado            educacion_estado  \\\n",
       "0      0z5VvGv         Secundario    Graduado         Secundario_Graduado   \n",
       "1      0zB026d  Terciario/Técnico    Graduado  Terciario/Técnico_Graduado   \n",
       "2      0zB03O9  Terciario/Técnico    En Curso  Terciario/Técnico_En Curso   \n",
       "3      0zB08lq         Secundario    Graduado         Secundario_Graduado   \n",
       "4      0zB0NWY      Universitario    Graduado      Universitario_Graduado   \n",
       "5      0zB0Xwd      Universitario    En Curso      Universitario_En Curso   \n",
       "6      0zB0YGv      Universitario  Abandonado    Universitario_Abandonado   \n",
       "7      0zB0e1d      Universitario    En Curso      Universitario_En Curso   \n",
       "8      0zB0eDY  Terciario/Técnico    Graduado  Terciario/Técnico_Graduado   \n",
       "9      0zB0qGE         Secundario    Graduado         Secundario_Graduado   \n",
       "\n",
       "  fechanacimiento  sexo  edad  \n",
       "0      1987-10-18  MASC  30.0  \n",
       "1      1978-02-23   FEM  40.0  \n",
       "2      1987-07-04   FEM  30.0  \n",
       "3      1972-06-09  MASC  45.0  \n",
       "4      1987-09-20   FEM  30.0  \n",
       "5      1989-09-18   FEM  28.0  \n",
       "6      1989-02-25   FEM  29.0  \n",
       "7      1990-11-17  MASC  27.0  \n",
       "8      1994-06-21   FEM  23.0  \n",
       "9      1979-08-16  MASC  38.0  "
      ]
     },
     "execution_count": 113,
     "metadata": {},
     "output_type": "execute_result"
    }
   ],
   "source": [
    "numpostulantes = postulaciones['idpostulante'].value_counts()\n",
    "print(\"Recordemos que la dimension de postulantes es: \",postulantes.shape)\n",
    "postulantes.head(10)"
   ]
  },
  {
   "cell_type": "code",
   "execution_count": 114,
   "metadata": {
    "collapsed": false
   },
   "outputs": [
    {
     "data": {
      "text/plain": [
       "(200888, 7)"
      ]
     },
     "execution_count": 114,
     "metadata": {},
     "output_type": "execute_result"
    }
   ],
   "source": [
    "postulantes.shape"
   ]
  },
  {
   "cell_type": "markdown",
   "metadata": {},
   "source": [
    "## Exploramos el quinto set de datos disponibles: Avisos.\n",
    "\n",
    "El mismo no provee información adicional para el análisis."
   ]
  },
  {
   "cell_type": "code",
   "execution_count": 115,
   "metadata": {
    "collapsed": false
   },
   "outputs": [
    {
     "name": "stdout",
     "output_type": "stream",
     "text": [
      "(5028, 1)\n"
     ]
    },
    {
     "data": {
      "text/html": [
       "<div>\n",
       "<table border=\"1\" class=\"dataframe\">\n",
       "  <thead>\n",
       "    <tr style=\"text-align: right;\">\n",
       "      <th></th>\n",
       "      <th>idaviso</th>\n",
       "    </tr>\n",
       "  </thead>\n",
       "  <tbody>\n",
       "    <tr>\n",
       "      <th>0</th>\n",
       "      <td>1112355872</td>\n",
       "    </tr>\n",
       "    <tr>\n",
       "      <th>1</th>\n",
       "      <td>1112335374</td>\n",
       "    </tr>\n",
       "    <tr>\n",
       "      <th>2</th>\n",
       "      <td>1112374842</td>\n",
       "    </tr>\n",
       "  </tbody>\n",
       "</table>\n",
       "</div>"
      ],
      "text/plain": [
       "      idaviso\n",
       "0  1112355872\n",
       "1  1112335374\n",
       "2  1112374842"
      ]
     },
     "execution_count": 115,
     "metadata": {},
     "output_type": "execute_result"
    }
   ],
   "source": [
    "#Previsualizamos primeras filas (DS Avisos_online)\n",
    "avisos_online = pd.read_csv('Data/fiuba_5_avisos_online.csv')\n",
    "print(avisos_online.shape)\n",
    "avisos_online.head(3)"
   ]
  },
  {
   "cell_type": "markdown",
   "metadata": {},
   "source": [
    "## Exploramos el sexto set de datos disponibles: Avisos (detalle)\n",
    "     \n",
    "Luego de una breve inspección visual, nos disponemos a explorar las postulaciones respecto a las variables presentadas en este set de datos:"
   ]
  },
  {
   "cell_type": "code",
   "execution_count": 116,
   "metadata": {
    "collapsed": false
   },
   "outputs": [
    {
     "name": "stdout",
     "output_type": "stream",
     "text": [
      "(13534, 11)\n"
     ]
    },
    {
     "data": {
      "text/html": [
       "<div>\n",
       "<table border=\"1\" class=\"dataframe\">\n",
       "  <thead>\n",
       "    <tr style=\"text-align: right;\">\n",
       "      <th></th>\n",
       "      <th>idaviso</th>\n",
       "      <th>idpais</th>\n",
       "      <th>titulo</th>\n",
       "      <th>descripcion</th>\n",
       "      <th>nombre_zona</th>\n",
       "      <th>ciudad</th>\n",
       "      <th>mapacalle</th>\n",
       "      <th>tipo_de_trabajo</th>\n",
       "      <th>nivel_laboral</th>\n",
       "      <th>nombre_area</th>\n",
       "      <th>denominacion_empresa</th>\n",
       "    </tr>\n",
       "  </thead>\n",
       "  <tbody>\n",
       "    <tr>\n",
       "      <th>0</th>\n",
       "      <td>8725750</td>\n",
       "      <td>1</td>\n",
       "      <td>VENDEDOR/A PROVINCIA DE SANTA FE</td>\n",
       "      <td>&lt;p&gt;&lt;strong&gt;&lt;strong&gt;Empresa:&lt;/strong&gt;&lt;/strong&gt; ...</td>\n",
       "      <td>Gran Buenos Aires</td>\n",
       "      <td>NaN</td>\n",
       "      <td>NaN</td>\n",
       "      <td>Full-time</td>\n",
       "      <td>Senior / Semi-Senior</td>\n",
       "      <td>Comercial</td>\n",
       "      <td>VENTOR</td>\n",
       "    </tr>\n",
       "    <tr>\n",
       "      <th>1</th>\n",
       "      <td>17903700</td>\n",
       "      <td>1</td>\n",
       "      <td>Enfermeras</td>\n",
       "      <td>&lt;p&gt;Solicitamos para importante cadena de farma...</td>\n",
       "      <td>Gran Buenos Aires</td>\n",
       "      <td>NaN</td>\n",
       "      <td>NaN</td>\n",
       "      <td>Full-time</td>\n",
       "      <td>Senior / Semi-Senior</td>\n",
       "      <td>Salud</td>\n",
       "      <td>Farmacias Central Oeste</td>\n",
       "    </tr>\n",
       "    <tr>\n",
       "      <th>2</th>\n",
       "      <td>1000150677</td>\n",
       "      <td>1</td>\n",
       "      <td>Chofer de taxi</td>\n",
       "      <td>&lt;p&gt;TE GUSTA MANEJAR? QUERES GANAR PLATA HACIEN...</td>\n",
       "      <td>Capital Federal</td>\n",
       "      <td>NaN</td>\n",
       "      <td>Empedrado 2336</td>\n",
       "      <td>Full-time</td>\n",
       "      <td>Senior / Semi-Senior</td>\n",
       "      <td>Transporte</td>\n",
       "      <td>FAMITAX SRL</td>\n",
       "    </tr>\n",
       "  </tbody>\n",
       "</table>\n",
       "</div>"
      ],
      "text/plain": [
       "      idaviso  idpais                            titulo  \\\n",
       "0     8725750       1  VENDEDOR/A PROVINCIA DE SANTA FE   \n",
       "1    17903700       1                        Enfermeras   \n",
       "2  1000150677       1                    Chofer de taxi   \n",
       "\n",
       "                                         descripcion        nombre_zona  \\\n",
       "0  <p><strong><strong>Empresa:</strong></strong> ...  Gran Buenos Aires   \n",
       "1  <p>Solicitamos para importante cadena de farma...  Gran Buenos Aires   \n",
       "2  <p>TE GUSTA MANEJAR? QUERES GANAR PLATA HACIEN...    Capital Federal   \n",
       "\n",
       "  ciudad       mapacalle tipo_de_trabajo         nivel_laboral nombre_area  \\\n",
       "0    NaN             NaN       Full-time  Senior / Semi-Senior   Comercial   \n",
       "1    NaN             NaN       Full-time  Senior / Semi-Senior       Salud   \n",
       "2    NaN  Empedrado 2336       Full-time  Senior / Semi-Senior  Transporte   \n",
       "\n",
       "      denominacion_empresa  \n",
       "0                   VENTOR  \n",
       "1  Farmacias Central Oeste  \n",
       "2              FAMITAX SRL  "
      ]
     },
     "execution_count": 116,
     "metadata": {},
     "output_type": "execute_result"
    }
   ],
   "source": [
    "#Previsualizamos primeras filas (DS Avisos_detalle)\n",
    "avisos_detalle = pd.read_csv('Data/fiuba_6_avisos_detalle.csv')\n",
    "print(avisos_detalle.shape)\n",
    "avisos_detalle.head(3)"
   ]
  },
  {
   "cell_type": "code",
   "execution_count": 117,
   "metadata": {
    "collapsed": false
   },
   "outputs": [
    {
     "name": "stdout",
     "output_type": "stream",
     "text": [
      "count          13534\n",
      "unique         13534\n",
      "top       1112335209\n",
      "freq               1\n",
      "Name: idaviso, dtype: int64\n",
      "(13534, 11)\n"
     ]
    }
   ],
   "source": [
    "print(avisos_detalle['idaviso'].astype('object').describe())\n",
    "print(avisos_detalle.shape)"
   ]
  },
  {
   "cell_type": "code",
   "execution_count": 118,
   "metadata": {
    "collapsed": false
   },
   "outputs": [
    {
     "name": "stdout",
     "output_type": "stream",
     "text": [
      "valores nulos totales=  26154\n",
      "idaviso                     0\n",
      "idpais                      0\n",
      "titulo                      0\n",
      "descripcion                 0\n",
      "nombre_zona                 0\n",
      "ciudad                  13487\n",
      "mapacalle               12662\n",
      "tipo_de_trabajo             0\n",
      "nivel_laboral               0\n",
      "nombre_area                 0\n",
      "denominacion_empresa        5\n",
      "dtype: int64\n"
     ]
    }
   ],
   "source": [
    "#Obtenemos cantidad de valores nulos (total campos)\n",
    "print('valores nulos totales= ',sum(avisos_detalle.isnull().sum(axis=0)))\n",
    "#Ante la gran cantidad de valores nulos, observamos en que variables se encuentran para considerar su posterior tratamiento\n",
    "print(avisos_detalle.isnull().sum())"
   ]
  },
  {
   "cell_type": "markdown",
   "metadata": {},
   "source": [
    "Consideramos eliminar las variables 'ciudad' y 'mapacalle', \n",
    "al encontrarse más del 90% de sus datos incompletos."
   ]
  },
  {
   "cell_type": "code",
   "execution_count": 119,
   "metadata": {
    "collapsed": false,
    "scrolled": true
   },
   "outputs": [],
   "source": [
    "avisos_detalle.drop('ciudad',axis=1,inplace=True) #Inplace hace que no tenga que reasignar\n",
    "avisos_detalle.drop('mapacalle',axis=1,inplace=True)"
   ]
  },
  {
   "cell_type": "code",
   "execution_count": 120,
   "metadata": {
    "collapsed": false
   },
   "outputs": [
    {
     "data": {
      "text/html": [
       "<div>\n",
       "<table border=\"1\" class=\"dataframe\">\n",
       "  <thead>\n",
       "    <tr style=\"text-align: right;\">\n",
       "      <th></th>\n",
       "      <th>idaviso</th>\n",
       "      <th>idpais</th>\n",
       "      <th>titulo</th>\n",
       "      <th>descripcion</th>\n",
       "      <th>nombre_zona</th>\n",
       "      <th>tipo_de_trabajo</th>\n",
       "      <th>nivel_laboral</th>\n",
       "      <th>nombre_area</th>\n",
       "      <th>denominacion_empresa</th>\n",
       "    </tr>\n",
       "  </thead>\n",
       "  <tbody>\n",
       "    <tr>\n",
       "      <th>0</th>\n",
       "      <td>8725750</td>\n",
       "      <td>1</td>\n",
       "      <td>VENDEDOR/A PROVINCIA DE SANTA FE</td>\n",
       "      <td>&lt;p&gt;&lt;strong&gt;&lt;strong&gt;Empresa:&lt;/strong&gt;&lt;/strong&gt; ...</td>\n",
       "      <td>Gran Buenos Aires</td>\n",
       "      <td>Full-time</td>\n",
       "      <td>Senior / Semi-Senior</td>\n",
       "      <td>Comercial</td>\n",
       "      <td>VENTOR</td>\n",
       "    </tr>\n",
       "  </tbody>\n",
       "</table>\n",
       "</div>"
      ],
      "text/plain": [
       "   idaviso  idpais                            titulo  \\\n",
       "0  8725750       1  VENDEDOR/A PROVINCIA DE SANTA FE   \n",
       "\n",
       "                                         descripcion        nombre_zona  \\\n",
       "0  <p><strong><strong>Empresa:</strong></strong> ...  Gran Buenos Aires   \n",
       "\n",
       "  tipo_de_trabajo         nivel_laboral nombre_area denominacion_empresa  \n",
       "0       Full-time  Senior / Semi-Senior   Comercial               VENTOR  "
      ]
     },
     "execution_count": 120,
     "metadata": {},
     "output_type": "execute_result"
    }
   ],
   "source": [
    "avisos_detalle.head(1)"
   ]
  },
  {
   "cell_type": "code",
   "execution_count": 121,
   "metadata": {
    "collapsed": false
   },
   "outputs": [
    {
     "data": {
      "text/plain": [
       "(13534, 9)"
      ]
     },
     "execution_count": 121,
     "metadata": {},
     "output_type": "execute_result"
    }
   ],
   "source": [
    "avisos_detalle.shape"
   ]
  },
  {
   "cell_type": "markdown",
   "metadata": {},
   "source": [
    "Exploramos la distribución zonal de los empleos, donde observamos que sólo un 15% de ellos pertenecen a CABA, mientras que el porcentaje restante lo hace respecto al GBA."
   ]
  },
  {
   "cell_type": "code",
   "execution_count": 122,
   "metadata": {
    "collapsed": false
   },
   "outputs": [
    {
     "data": {
      "text/plain": [
       "<matplotlib.text.Text at 0x12ed059d6d8>"
      ]
     },
     "execution_count": 122,
     "metadata": {},
     "output_type": "execute_result"
    },
    {
     "data": {
      "image/png": "[encoded data removed]",
      "text/plain": [
       "<matplotlib.figure.Figure at 0x12ed80a80f0>"
      ]
     },
     "metadata": {},
     "output_type": "display_data"
    }
   ],
   "source": [
    "avisos_detalle['nombre_zona'].value_counts()\n",
    "avisos_detalle['nombre_zona'].value_counts().plot.bar(title='Distribucion zonal empleos')\n",
    "plt.ylabel('Avisos')\n",
    "plt.xlabel('Zona')"
   ]
  },
  {
   "cell_type": "markdown",
   "metadata": {},
   "source": [
    "También nos interesa conocer el tipo de trabajo ofrecido.\n",
    "En base a la visualización que se encuentra a continuación, podemos ver que más del 85% de la oferta refiere a empleos \"Full time\". \n",
    "Por otro lado, el 15% restante ofrece trabajos en modalidades menos convencionales o de medio tiempo."
   ]
  },
  {
   "cell_type": "code",
   "execution_count": 123,
   "metadata": {
    "collapsed": false
   },
   "outputs": [
    {
     "data": {
      "text/plain": [
       "<matplotlib.text.Text at 0x12ed80a8160>"
      ]
     },
     "execution_count": 123,
     "metadata": {},
     "output_type": "execute_result"
    },
    {
     "data": {
      "image/png": "[encoded data removed]",
      "text/plain": [
       "<matplotlib.figure.Figure at 0x12ed8092518>"
      ]
     },
     "metadata": {},
     "output_type": "display_data"
    }
   ],
   "source": [
    "avisos_detalle['tipo_de_trabajo'].value_counts(normalize=True)\n",
    "avisos_detalle['tipo_de_trabajo'].value_counts(normalize=True).plot.bar(title='Distribucion tipo de trabajo')\n",
    "plt.ylabel('Distribución relativa')\n",
    "plt.xlabel('Modalidad')"
   ]
  },
  {
   "cell_type": "markdown",
   "metadata": {},
   "source": [
    "Proseguimos visualizando la jerarquía o nivel de experiencia requerida en cada puesto; observamos que cerca del 70% de los puestos requeridos son para posiciones senior o semi-senior. Por otro lado, existen pocas búsquedas para niveles junior en la plataforma, y muy pocas búsquedas de niveles jerárquicos."
   ]
  },
  {
   "cell_type": "code",
   "execution_count": 124,
   "metadata": {
    "collapsed": false
   },
   "outputs": [
    {
     "data": {
      "text/plain": [
       "<matplotlib.text.Text at 0x12ed4115be0>"
      ]
     },
     "execution_count": 124,
     "metadata": {},
     "output_type": "execute_result"
    },
    {
     "data": {
      "image/png": "[encoded data removed]",
      "text/plain": [
       "<matplotlib.figure.Figure at 0x12eaa858470>"
      ]
     },
     "metadata": {},
     "output_type": "display_data"
    }
   ],
   "source": [
    "avisos_detalle['nivel_laboral'].value_counts(normalize=True)\n",
    "avisos_detalle['nivel_laboral'].value_counts(normalize=True).plot.bar(title='Distribucion tipo de trabajo')\n",
    "plt.ylabel('Distribución relativa')\n",
    "plt.xlabel('Posición')"
   ]
  },
  {
   "cell_type": "markdown",
   "metadata": {},
   "source": [
    "En cuanto a las áreas del mercado, podemos observar a continuación que el sector de ventas lidera indiscutidamente las posiciones ofrecidas con un 12% del total ofertado, seguida por las áreas comerciales y administrativas. "
   ]
  },
  {
   "cell_type": "code",
   "execution_count": 125,
   "metadata": {
    "collapsed": false
   },
   "outputs": [
    {
     "data": {
      "text/plain": [
       "<matplotlib.text.Text at 0x12eaa8b1198>"
      ]
     },
     "execution_count": 125,
     "metadata": {},
     "output_type": "execute_result"
    },
    {
     "data": {
      "image/png": "[encoded data removed]",
      "text/plain": [
       "<matplotlib.figure.Figure at 0x12eaa8c4080>"
      ]
     },
     "metadata": {},
     "output_type": "display_data"
    }
   ],
   "source": [
    "avisos_detalle['nombre_area'].value_counts(normalize=True).head(40).plot.bar(title='Distribucion por área')\n",
    "plt.ylabel('Distribución relativa')\n",
    "plt.xlabel('área')"
   ]
  },
  {
   "cell_type": "markdown",
   "metadata": {},
   "source": [
    "Analizando ahora a las empresas oferentes, podemos observar que las empresas con mayor cantidad de avisos no son empresas que realicen contratación directa, sino consultoras (Randstad, Manpower, Grupo Gestión, etc.).\n",
    "En base a este descubrimiento, proponemos a Zonajobs - de no hacerlo ya - ofrecer un tratamiento diferencial a estas compañias en cuanto a pricing, modalidad de carga de empleos (dada su masividad), y atención al cliente. "
   ]
  },
  {
   "cell_type": "code",
   "execution_count": 126,
   "metadata": {
    "collapsed": false
   },
   "outputs": [
    {
     "data": {
      "text/plain": [
       "<matplotlib.text.Text at 0x12eab29c710>"
      ]
     },
     "execution_count": 126,
     "metadata": {},
     "output_type": "execute_result"
    },
    {
     "data": {
      "image/png": "[encoded data removed]",
      "text/plain": [
       "<matplotlib.figure.Figure at 0x12eaa93cf60>"
      ]
     },
     "metadata": {},
     "output_type": "display_data"
    }
   ],
   "source": [
    "avisos_detalle['denominacion_empresa'].value_counts(normalize=True).head(40).plot.bar(title='Empleadores')\n",
    "plt.ylabel('Distribución relativa')\n",
    "plt.xlabel('Empresa contratante')"
   ]
  },
  {
   "cell_type": "markdown",
   "metadata": {},
   "source": [
    "## Empezamos a Relacionar tablas de postulaciones y vistas"
   ]
  },
  {
   "cell_type": "markdown",
   "metadata": {},
   "source": [
    "## Vistas vs. Postulaciones\n",
    "\n",
    "Comenzamos por agrupar las postulaciones y las vistas por su id de aviso"
   ]
  },
  {
   "cell_type": "code",
   "execution_count": 127,
   "metadata": {
    "collapsed": false
   },
   "outputs": [
    {
     "name": "stdout",
     "output_type": "stream",
     "text": [
      "(3401623, 8)\n"
     ]
    },
    {
     "data": {
      "text/html": [
       "<div>\n",
       "<table border=\"1\" class=\"dataframe\">\n",
       "  <thead>\n",
       "    <tr style=\"text-align: right;\">\n",
       "      <th></th>\n",
       "      <th>idaviso</th>\n",
       "      <th>idpostulante</th>\n",
       "      <th>fechapost</th>\n",
       "      <th>year</th>\n",
       "      <th>month</th>\n",
       "      <th>day</th>\n",
       "      <th>hour</th>\n",
       "      <th>dow</th>\n",
       "    </tr>\n",
       "  </thead>\n",
       "  <tbody>\n",
       "    <tr>\n",
       "      <th>0</th>\n",
       "      <td>1112257047</td>\n",
       "      <td>NM5M</td>\n",
       "      <td>2018-01-15 16:22:34</td>\n",
       "      <td>2018</td>\n",
       "      <td>1</td>\n",
       "      <td>15</td>\n",
       "      <td>16</td>\n",
       "      <td>0</td>\n",
       "    </tr>\n",
       "    <tr>\n",
       "      <th>1</th>\n",
       "      <td>1111920714</td>\n",
       "      <td>NM5M</td>\n",
       "      <td>2018-02-06 09:04:50</td>\n",
       "      <td>2018</td>\n",
       "      <td>2</td>\n",
       "      <td>6</td>\n",
       "      <td>9</td>\n",
       "      <td>1</td>\n",
       "    </tr>\n",
       "    <tr>\n",
       "      <th>2</th>\n",
       "      <td>1112346945</td>\n",
       "      <td>NM5M</td>\n",
       "      <td>2018-02-22 09:04:47</td>\n",
       "      <td>2018</td>\n",
       "      <td>2</td>\n",
       "      <td>22</td>\n",
       "      <td>9</td>\n",
       "      <td>3</td>\n",
       "    </tr>\n",
       "  </tbody>\n",
       "</table>\n",
       "</div>"
      ],
      "text/plain": [
       "      idaviso idpostulante           fechapost  year  month  day  hour  dow\n",
       "0  1112257047         NM5M 2018-01-15 16:22:34  2018      1   15    16    0\n",
       "1  1111920714         NM5M 2018-02-06 09:04:50  2018      2    6     9    1\n",
       "2  1112346945         NM5M 2018-02-22 09:04:47  2018      2   22     9    3"
      ]
     },
     "execution_count": 127,
     "metadata": {},
     "output_type": "execute_result"
    }
   ],
   "source": [
    "print(postulaciones.shape)\n",
    "postulaciones.head(3)"
   ]
  },
  {
   "cell_type": "code",
   "execution_count": 128,
   "metadata": {
    "collapsed": false
   },
   "outputs": [
    {
     "data": {
      "text/html": [
       "<div>\n",
       "<table border=\"1\" class=\"dataframe\">\n",
       "  <thead>\n",
       "    <tr style=\"text-align: right;\">\n",
       "      <th></th>\n",
       "      <th>idAviso</th>\n",
       "      <th>CantPostulaciones</th>\n",
       "    </tr>\n",
       "  </thead>\n",
       "  <tbody>\n",
       "    <tr>\n",
       "      <th>0</th>\n",
       "      <td>1112033906</td>\n",
       "      <td>9932</td>\n",
       "    </tr>\n",
       "    <tr>\n",
       "      <th>1</th>\n",
       "      <td>1112334791</td>\n",
       "      <td>9787</td>\n",
       "    </tr>\n",
       "    <tr>\n",
       "      <th>2</th>\n",
       "      <td>1112204682</td>\n",
       "      <td>9244</td>\n",
       "    </tr>\n",
       "  </tbody>\n",
       "</table>\n",
       "</div>"
      ],
      "text/plain": [
       "      idAviso  CantPostulaciones\n",
       "0  1112033906               9932\n",
       "1  1112334791               9787\n",
       "2  1112204682               9244"
      ]
     },
     "execution_count": 128,
     "metadata": {},
     "output_type": "execute_result"
    }
   ],
   "source": [
    "postulacionesAgrupadas =postulaciones['idaviso'].value_counts().to_frame()\n",
    "postulacionesAgrupadas.reset_index(level=0,inplace=True)\n",
    "postulacionesAgrupadas.columns.values[0]='idAviso'\n",
    "postulacionesAgrupadas.columns.values[1]='CantPostulaciones'\n",
    "\n",
    "postulacionesAgrupadas.head(3)"
   ]
  },
  {
   "cell_type": "code",
   "execution_count": 129,
   "metadata": {
    "collapsed": false
   },
   "outputs": [
    {
     "name": "stdout",
     "output_type": "stream",
     "text": [
      "(961897, 10)\n"
     ]
    },
    {
     "data": {
      "text/html": [
       "<div>\n",
       "<table border=\"1\" class=\"dataframe\">\n",
       "  <thead>\n",
       "    <tr style=\"text-align: right;\">\n",
       "      <th></th>\n",
       "      <th>idAviso</th>\n",
       "      <th>fechavista</th>\n",
       "      <th>idpostulante</th>\n",
       "      <th>year</th>\n",
       "      <th>month</th>\n",
       "      <th>day</th>\n",
       "      <th>hour</th>\n",
       "      <th>dow</th>\n",
       "      <th>dayString</th>\n",
       "      <th>diaString</th>\n",
       "    </tr>\n",
       "  </thead>\n",
       "  <tbody>\n",
       "    <tr>\n",
       "      <th>0</th>\n",
       "      <td>1111780242</td>\n",
       "      <td>2018-02-23 18:38:13.187</td>\n",
       "      <td>YjVJQ6Z</td>\n",
       "      <td>2018</td>\n",
       "      <td>2</td>\n",
       "      <td>23</td>\n",
       "      <td>18</td>\n",
       "      <td>4</td>\n",
       "      <td>Friday</td>\n",
       "      <td>Viernes</td>\n",
       "    </tr>\n",
       "    <tr>\n",
       "      <th>1</th>\n",
       "      <td>1112263876</td>\n",
       "      <td>2018-02-23 18:38:14.296</td>\n",
       "      <td>BmVpYoR</td>\n",
       "      <td>2018</td>\n",
       "      <td>2</td>\n",
       "      <td>23</td>\n",
       "      <td>18</td>\n",
       "      <td>4</td>\n",
       "      <td>Friday</td>\n",
       "      <td>Viernes</td>\n",
       "    </tr>\n",
       "    <tr>\n",
       "      <th>2</th>\n",
       "      <td>1112327963</td>\n",
       "      <td>2018-02-23 18:38:14.329</td>\n",
       "      <td>wVkBzZd</td>\n",
       "      <td>2018</td>\n",
       "      <td>2</td>\n",
       "      <td>23</td>\n",
       "      <td>18</td>\n",
       "      <td>4</td>\n",
       "      <td>Friday</td>\n",
       "      <td>Viernes</td>\n",
       "    </tr>\n",
       "  </tbody>\n",
       "</table>\n",
       "</div>"
      ],
      "text/plain": [
       "      idAviso              fechavista idpostulante  year  month  day  hour  \\\n",
       "0  1111780242 2018-02-23 18:38:13.187      YjVJQ6Z  2018      2   23    18   \n",
       "1  1112263876 2018-02-23 18:38:14.296      BmVpYoR  2018      2   23    18   \n",
       "2  1112327963 2018-02-23 18:38:14.329      wVkBzZd  2018      2   23    18   \n",
       "\n",
       "   dow dayString diaString  \n",
       "0    4    Friday   Viernes  \n",
       "1    4    Friday   Viernes  \n",
       "2    4    Friday   Viernes  "
      ]
     },
     "execution_count": 129,
     "metadata": {},
     "output_type": "execute_result"
    }
   ],
   "source": [
    "print(vistas.shape)\n",
    "vistas.head(3)"
   ]
  },
  {
   "cell_type": "code",
   "execution_count": 130,
   "metadata": {
    "collapsed": false
   },
   "outputs": [
    {
     "data": {
      "text/html": [
       "<div>\n",
       "<table border=\"1\" class=\"dataframe\">\n",
       "  <thead>\n",
       "    <tr style=\"text-align: right;\">\n",
       "      <th></th>\n",
       "      <th>idAviso</th>\n",
       "      <th>CantVistas</th>\n",
       "    </tr>\n",
       "  </thead>\n",
       "  <tbody>\n",
       "    <tr>\n",
       "      <th>0</th>\n",
       "      <td>1112363488</td>\n",
       "      <td>4169</td>\n",
       "    </tr>\n",
       "    <tr>\n",
       "      <th>1</th>\n",
       "      <td>1112359836</td>\n",
       "      <td>4120</td>\n",
       "    </tr>\n",
       "    <tr>\n",
       "      <th>2</th>\n",
       "      <td>1112352317</td>\n",
       "      <td>4003</td>\n",
       "    </tr>\n",
       "  </tbody>\n",
       "</table>\n",
       "</div>"
      ],
      "text/plain": [
       "      idAviso  CantVistas\n",
       "0  1112363488        4169\n",
       "1  1112359836        4120\n",
       "2  1112352317        4003"
      ]
     },
     "execution_count": 130,
     "metadata": {},
     "output_type": "execute_result"
    }
   ],
   "source": [
    "vistasAgrupadas =vistas['idAviso'].value_counts().to_frame()\n",
    "vistasAgrupadas.reset_index(level=0,inplace=True)\n",
    "vistasAgrupadas.columns.values[0]='idAviso'\n",
    "vistasAgrupadas.columns.values[1]='CantVistas'\n",
    "\n",
    "vistasAgrupadas.head(3)\n"
   ]
  },
  {
   "cell_type": "markdown",
   "metadata": {},
   "source": [
    "Ahora las juntamos para relacionar para un mismo aviso cuantas vistas y cuantas postulaciones tuvo."
   ]
  },
  {
   "cell_type": "code",
   "execution_count": 131,
   "metadata": {
    "collapsed": false
   },
   "outputs": [
    {
     "data": {
      "text/html": [
       "<div>\n",
       "<table border=\"1\" class=\"dataframe\">\n",
       "  <thead>\n",
       "    <tr style=\"text-align: right;\">\n",
       "      <th></th>\n",
       "      <th>idAviso</th>\n",
       "      <th>CantVistas</th>\n",
       "      <th>CantPostulaciones</th>\n",
       "      <th>PostOverVistas</th>\n",
       "    </tr>\n",
       "  </thead>\n",
       "  <tbody>\n",
       "    <tr>\n",
       "      <th>0</th>\n",
       "      <td>1112363488</td>\n",
       "      <td>4169</td>\n",
       "      <td>1244</td>\n",
       "      <td>0.298393</td>\n",
       "    </tr>\n",
       "    <tr>\n",
       "      <th>1</th>\n",
       "      <td>1112359836</td>\n",
       "      <td>4120</td>\n",
       "      <td>4454</td>\n",
       "      <td>1.081068</td>\n",
       "    </tr>\n",
       "    <tr>\n",
       "      <th>2</th>\n",
       "      <td>1112352317</td>\n",
       "      <td>4003</td>\n",
       "      <td>4194</td>\n",
       "      <td>1.047714</td>\n",
       "    </tr>\n",
       "  </tbody>\n",
       "</table>\n",
       "</div>"
      ],
      "text/plain": [
       "      idAviso  CantVistas  CantPostulaciones  PostOverVistas\n",
       "0  1112363488        4169               1244        0.298393\n",
       "1  1112359836        4120               4454        1.081068\n",
       "2  1112352317        4003               4194        1.047714"
      ]
     },
     "execution_count": 131,
     "metadata": {},
     "output_type": "execute_result"
    }
   ],
   "source": [
    "vistaPostulacionXaviso = vistasAgrupadas.merge(postulacionesAgrupadas)\n",
    "vistaPostulacionXaviso['PostOverVistas']= \\\n",
    "vistaPostulacionXaviso.CantPostulaciones / vistaPostulacionXaviso.CantVistas\n",
    "vistaPostulacionXaviso.head(3)\n"
   ]
  },
  {
   "cell_type": "code",
   "execution_count": 132,
   "metadata": {
    "collapsed": false
   },
   "outputs": [
    {
     "data": {
      "text/plain": [
       "6307    6113.0\n",
       "6502    3549.0\n",
       "6042    2972.0\n",
       "6199    2664.0\n",
       "6329    2305.0\n",
       "Name: PostOverVistas, dtype: float64"
      ]
     },
     "execution_count": 132,
     "metadata": {},
     "output_type": "execute_result"
    }
   ],
   "source": [
    "serie = vistaPostulacionXaviso['PostOverVistas'].sort_values(ascending = False)\n",
    "serie.head()"
   ]
  },
  {
   "cell_type": "markdown",
   "metadata": {},
   "source": [
    "Hacemos un scatter plot de estas variables"
   ]
  },
  {
   "cell_type": "code",
   "execution_count": 133,
   "metadata": {
    "collapsed": false
   },
   "outputs": [
    {
     "data": {
      "text/plain": [
       "<matplotlib.text.Text at 0x12eab3a2710>"
      ]
     },
     "execution_count": 133,
     "metadata": {},
     "output_type": "execute_result"
    },
    {
     "data": {
      "image/png": "[encoded data removed]",
      "text/plain": [
       "<matplotlib.figure.Figure at 0x12eab3d3dd8>"
      ]
     },
     "metadata": {},
     "output_type": "display_data"
    }
   ],
   "source": [
    "vistaPostulacionXavisoRestringido = vistaPostulacionXaviso.loc[(vistaPostulacionXaviso['CantVistas'] <= 10000) ]\n",
    "\n",
    "fig, ax = plt.subplots(figsize=(8,8))\n",
    "ax.scatter(vistaPostulacionXavisoRestringido['CantVistas'], vistaPostulacionXavisoRestringido['CantPostulaciones'], s=25,  cmap=plt.cm.coolwarm, zorder=10)\n",
    "\n",
    "lims = [\n",
    "    np.min([ax.get_xlim(), ax.get_ylim()]),  # min of both axes\n",
    "    np.max([ax.get_xlim(), ax.get_ylim()]),  # max of both axes\n",
    "]\n",
    "\n",
    "# now plot both limits against eachother\n",
    "ax.plot(lims, lims, 'k-', alpha=0.75, zorder=0)\n",
    "ax.set_aspect('equal')\n",
    "ax.set_xlim(lims)\n",
    "ax.set_ylim(lims)\n",
    "\n",
    "ax.set_xlabel('CantVistas')\n",
    "ax.set_ylabel('CantPostulaciones')"
   ]
  },
  {
   "cell_type": "markdown",
   "metadata": {},
   "source": [
    "Se observa claramente la necesidad de revisar los outliers y tambien analizar que sucede los casos donde hay muy pocas visitas (grafico inferior vistas=1) y una enorme cantidad de postulaciones, algo que a-priori no nos parece muy lógico"
   ]
  },
  {
   "cell_type": "code",
   "execution_count": 134,
   "metadata": {
    "collapsed": false
   },
   "outputs": [
    {
     "data": {
      "text/plain": [
       "<matplotlib.text.Text at 0x12eab477240>"
      ]
     },
     "execution_count": 134,
     "metadata": {},
     "output_type": "execute_result"
    },
    {
     "data": {
      "image/png": "[encoded data removed]",
      "text/plain": [
       "<matplotlib.figure.Figure at 0x12eab3dcfd0>"
      ]
     },
     "metadata": {},
     "output_type": "display_data"
    }
   ],
   "source": [
    "vistaPostulacionXavisoRestringido = vistaPostulacionXaviso.loc[(vistaPostulacionXaviso['CantVistas'] <= 1) ]\n",
    "\n",
    "fig, ax = plt.subplots(figsize=(8,8))\n",
    "ax.scatter(vistaPostulacionXavisoRestringido['CantVistas'], vistaPostulacionXavisoRestringido['CantPostulaciones'], s=25,  cmap=plt.cm.coolwarm, zorder=10)\n",
    "\n",
    "lims = [\n",
    "    np.min([ax.get_xlim(), ax.get_ylim()]),  # min of both axes\n",
    "    np.max([ax.get_xlim(), ax.get_ylim()]),  # max of both axes\n",
    "]\n",
    "\n",
    "# now plot both limits against eachother\n",
    "ax.plot(lims, lims, 'k-', alpha=0.75, zorder=0)\n",
    "ax.set_aspect('equal')\n",
    "ax.set_xlim(lims)\n",
    "ax.set_ylim(lims)\n",
    "\n",
    "ax.set_xlabel('CantVistas')\n",
    "ax.set_ylabel('CantPostulaciones')"
   ]
  },
  {
   "cell_type": "markdown",
   "metadata": {},
   "source": [
    "## Conclusiones y guías para futuros trabajos:\n",
    "    \n",
    "* Dado que la mayor parte de los postulantes se encuentran entre los 20 y 35 años, recomendamos a Zonajobs considerar la opción de desarrollar una aplicación para teléfonos móviles. Esto los acercaría más a su consumidor promedio y a su vez les permitiría generar alertas y obtener datos que de forma más sencilla.\n",
    "* Debido a que las empresas con mayor cantidad de avisos son consultoras (Randstad, Manpower, Grupo Gestión, etc.), se propone que Zonajobs realice un tratamiento especial de dichos clientes.\n",
    "* Con el fin de aumentar y mejorar el uso de Zonajobs, se puede ofrecer un servicio premium a los postulantes. Dicho servivio les brindaría opciones como mayor visibilidad, revisión y asistencia en el armado de CV, ofrecimiento de cursos con descuentos, etc.\n",
    "* Recomendamos a Zonajobs generar alertas y/o notificaciones en los días de menor tráfico, a modo de atraer postulantes hacia la web. Esto puede generar mayores ganancias respecto al tráfico web.\n",
    "* A pesar de las varias categorías de trabajo, consideramos que aumentar en mayor medida el segmentamiento de dichas categorías puede llegar a mejorar la experiencia del usuario.\n",
    "    \n"
   ]
  }
 ],
 "metadata": {
  "anaconda-cloud": {},
  "celltoolbar": "Edit Metadata",
  "kernelspec": {
   "display_name": "Python 3",
   "language": "python",
   "name": "python3"
  },
  "language_info": {
   "codemirror_mode": {
    "name": "ipython",
    "version": 3
   },
   "file_extension": ".py",
   "mimetype": "text/x-python",
   "name": "python",
   "nbconvert_exporter": "python",
   "pygments_lexer": "ipython3",
   "version": "3.6.0"
  }
 },
 "nbformat": 4,
 "nbformat_minor": 2
}
